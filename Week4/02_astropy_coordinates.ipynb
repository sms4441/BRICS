{
  "cells": [
    {
      "cell_type": "markdown",
      "id": "d9d92257-6b7f-43a7-ae8e-04fe6ee8bc25",
      "metadata": {
        "id": "d9d92257-6b7f-43a7-ae8e-04fe6ee8bc25"
      },
      "source": [
        "## Introduction to `astropy.coordinates`\n",
        "[![Open In Colab](https://colab.research.google.com/assets/colab-badge.svg)](https://colab.research.google.com/github/Danselem/brics_astro/blob/main/Week4/02_astropy_coordinates.ipynb)\n",
        "\n",
        "\n",
        "Now that we have a solid understanding of `astropy.units` and how to represent physical quantities with consistent, meaningful units, we can move forward to a central topic in astronomical computing: **celestial coordinate systems**.\n",
        "\n",
        "The `astropy.coordinates` subpackage provides a powerful and flexible framework for representing and transforming astronomical positions and motions. It allows astronomers to specify positions of objects in various coordinate systems, convert between them, and perform operations such as angular separations, projections, and velocity calculations.\n",
        "\n",
        "This module is essential for tasks involving:\n",
        "- Sky positions (e.g., RA/Dec, Galactic coordinates)\n",
        "- Proper motions and radial velocities\n",
        "- Coordinate transformations (e.g., ICRS ↔ Galactic ↔ AltAz)\n",
        "- Observation planning and target tracking\n",
        "- Parsing, formatting, and aligning catalogs\n",
        "\n",
        "Behind the scenes, `astropy.coordinates` is fully integrated with `astropy.units`, so all angles, distances, and velocities are unit-aware, ensuring physical and computational consistency.\n",
        "\n",
        "In this section, we will focus on the fundamental functionality of the `astropy.coordinates` module — the tools most commonly used to define, interpret, and convert astronomical positions. Mastering these basic elements will be essential for working with astronomical databases and sky catalogs later, particularly when using tools such as `astroquery`.\n",
        "\n",
        "\n",
        "**Note**\n",
        "If you are running this jupyter notebook from Colab, then run the next cell by pressing `SHIFT+ENTER` to install the required packages for this notebook. Otherwise, skip the next cell."
      ]
    },
    {
      "cell_type": "code",
      "execution_count": 1,
      "id": "6ca3426c-3690-4d5d-8e46-cea823c88ec1",
      "metadata": {
        "id": "6ca3426c-3690-4d5d-8e46-cea823c88ec1"
      },
      "outputs": [],
      "source": [
        "!pip install -q astropy"
      ]
    },
    {
      "cell_type": "code",
      "execution_count": 2,
      "id": "657f698e-3e77-48f8-88cf-8d442b214536",
      "metadata": {
        "id": "657f698e-3e77-48f8-88cf-8d442b214536",
        "outputId": "e3e97b5b-a9f8-4bee-ee58-641317728a8c",
        "colab": {
          "base_uri": "https://localhost:8080/"
        }
      },
      "outputs": [
        {
          "output_type": "stream",
          "name": "stdout",
          "text": [
            "<SkyCoord (ICRS): (ra, dec) in deg\n",
            "    (138.0108, -64.8625)>\n",
            "<class 'astropy.coordinates.sky_coordinate.SkyCoord'>\n"
          ]
        }
      ],
      "source": [
        "from astropy import units as u\n",
        "from astropy.coordinates import SkyCoord\n",
        "import numpy as np\n",
        "\n",
        "coord = SkyCoord(ra=138.0108*u.degree, dec= -64.8625 *u.degree, frame='icrs') #NGC 2808\n",
        "print(coord)\n",
        "print(type(coord))"
      ]
    },
    {
      "cell_type": "markdown",
      "id": "656e0bea-6516-4920-9033-20a5ad1e0205",
      "metadata": {
        "id": "656e0bea-6516-4920-9033-20a5ad1e0205"
      },
      "source": [
        "In this cell, we create an object of the `SkyCoord` class from the `astropy.coordinates` module to represent the sky position of the globular cluster **NGC 2808**.\n",
        "\n",
        "We provide:\n",
        "- **Right Ascension (RA)**: 138.0108 degrees  \n",
        "- **Declination (Dec)**: −64.8625 degrees  \n",
        "- **Coordinate frame**: `'icrs'` (International Celestial Reference System), the standard celestial frame based on extragalactic reference points\n",
        "\n",
        "By explicitly attaching the unit `u.degree` to each value, we ensure unit consistency and enable the coordinate object to interact properly with other tools in the `astropy` ecosystem.\n",
        "\n",
        "The resulting `SkyCoord` object encapsulates both position and reference frame information, and serves as the foundation for coordinate transformations, distance associations, proper motion handling, and querying astronomical databases using tools like `astroquery`.\n"
      ]
    },
    {
      "cell_type": "code",
      "execution_count": 3,
      "id": "cd18bf2f-9020-4432-8a1f-a897b18173a0",
      "metadata": {
        "id": "cd18bf2f-9020-4432-8a1f-a897b18173a0",
        "outputId": "adfef2c4-33dd-4ff0-81e7-3e145142a35d",
        "colab": {
          "base_uri": "https://localhost:8080/"
        }
      },
      "outputs": [
        {
          "output_type": "stream",
          "name": "stdout",
          "text": [
            "<SkyCoord (ICRS): (ra, dec) in deg\n",
            "    (138.0108, -64.8625)>\n",
            "<SkyCoord (ICRS): (ra, dec) in deg\n",
            "    (138.01083333, -64.8625)>\n",
            "<SkyCoord (ICRS): (ra, dec) in deg\n",
            "    (138.01083333, -64.8625)>\n",
            "<SkyCoord (ICRS): (ra, dec) in deg\n",
            "    (138.01083333, -64.8625)>\n"
          ]
        }
      ],
      "source": [
        "#Warning: astropy.coordinates can digest any coordinate system — keep your fingers away from the input!\n",
        "coord = SkyCoord(138.0108, -64.8625, frame='icrs', unit='deg')\n",
        "print(coord)\n",
        "coord = SkyCoord('09h12m2.6s', '-64d51m45s', frame='icrs')\n",
        "print(coord)\n",
        "coord = SkyCoord('09 12 2.6 -64 51 45', unit=(u.hourangle, u.deg))\n",
        "print(coord)\n",
        "coord = SkyCoord('09:12:2.6 -64:51:45', unit=(u.hourangle, u.deg))\n",
        "print(coord)"
      ]
    },
    {
      "cell_type": "code",
      "execution_count": 4,
      "id": "f9eac12f-c55f-4328-bc60-d0a96a7d62d5",
      "metadata": {
        "id": "f9eac12f-c55f-4328-bc60-d0a96a7d62d5",
        "outputId": "96dac66e-44cc-4e67-f2ee-43c65333ca1c",
        "colab": {
          "base_uri": "https://localhost:8080/"
        }
      },
      "outputs": [
        {
          "output_type": "stream",
          "name": "stdout",
          "text": [
            "138d00m39s -64d51m45s\n",
            "<class 'astropy.coordinates.angles.core.Longitude'>\n",
            "<class 'astropy.coordinates.angles.core.Latitude'>\n"
          ]
        }
      ],
      "source": [
        "print(coord.ra,coord.dec)\n",
        "print(type(coord.ra))\n",
        "print(type(coord.dec))"
      ]
    },
    {
      "cell_type": "markdown",
      "id": "f43318ba-db7e-401f-95d3-8c9238aab8e1",
      "metadata": {
        "id": "f43318ba-db7e-401f-95d3-8c9238aab8e1"
      },
      "source": [
        "In this cell, we retrieve the stored **Right Ascension** and **Declination** from the `SkyCoord` object using the `.ra` and `.dec` attributes.\n",
        "\n",
        "These attributes return `Quantity` objects from `astropy.units`, which means they retain both the numerical value and the unit (in this case, degrees). This allows for safe arithmetic, conversion to other units, and precise control over formatting.\n",
        "\n",
        "By printing `type(coord.ra)`, we confirm that the output is not just a number but an instance of `astropy.units.Quantity`. This reinforces the fact that `SkyCoord` maintains full unit awareness internally.\n"
      ]
    },
    {
      "cell_type": "code",
      "execution_count": 5,
      "id": "200da8b2-31d6-4c9c-8e6b-2631eac72c70",
      "metadata": {
        "id": "200da8b2-31d6-4c9c-8e6b-2631eac72c70",
        "outputId": "2b8bd15e-ad5d-4a39-fd01-575cac5e5ece",
        "colab": {
          "base_uri": "https://localhost:8080/"
        }
      },
      "outputs": [
        {
          "output_type": "stream",
          "name": "stdout",
          "text": [
            "9.200722222222224 -64.8625\n",
            "<class 'numpy.float64'>\n"
          ]
        }
      ],
      "source": [
        "print(coord.ra.hour,coord.dec.deg)\n",
        "print(type(coord.ra.hour))\n"
      ]
    },
    {
      "cell_type": "markdown",
      "id": "3c5cc63d-15e2-46d8-9274-86906ef78d21",
      "metadata": {
        "id": "3c5cc63d-15e2-46d8-9274-86906ef78d21"
      },
      "source": [
        "In this cell, we extract the **Right Ascension** and **Declination** from the `SkyCoord` object, but in alternative representations:\n",
        "\n",
        "- `.ra.hour` converts the right ascension from degrees to **hours**, since RA is traditionally measured in hours, minutes, and seconds in astronomy (1 hour = 15 degrees).\n",
        "- `.dec.deg` simply returns the declination in decimal degrees, which is the default angular unit for declination.\n",
        "\n",
        "Note that `.ra.hour` returns a plain Python float — it strips away the unit metadata and gives only the numerical value in hours. This can be useful for certain formatting or external tools, but lacks the unit safety of `Quantity` objects.\n",
        "\n",
        "By printing `type(coord.ra.hour)`, we verify that the result is no longer a `Quantity` but a standard `float`.\n"
      ]
    },
    {
      "cell_type": "code",
      "execution_count": 6,
      "id": "88101b9d-5222-45b9-98e4-64d60be815c2",
      "metadata": {
        "id": "88101b9d-5222-45b9-98e4-64d60be815c2",
        "outputId": "35437186-c10b-4521-8238-157553e0f046",
        "colab": {
          "base_uri": "https://localhost:8080/"
        }
      },
      "outputs": [
        {
          "output_type": "stream",
          "name": "stdout",
          "text": [
            "hms_tuple(h=np.float64(9.0), m=np.float64(12.0), s=np.float64(2.600000000004883))\n",
            "dms_tuple(d=np.float64(-64.0), m=np.float64(-51.0), s=np.float64(-44.99999999998977))\n"
          ]
        }
      ],
      "source": [
        "print(coord.ra.hms)\n",
        "print(coord.dec.dms)"
      ]
    },
    {
      "cell_type": "markdown",
      "id": "dc4d88cc-feed-4a41-b47a-631d0fe2a635",
      "metadata": {
        "id": "dc4d88cc-feed-4a41-b47a-631d0fe2a635"
      },
      "source": [
        "In this cell, we access the `.ra.hms` attribute of the `SkyCoord` object.\n",
        "\n",
        "The `.hms` property returns the **hours**, **minutes**, and **seconds** representation of the Right Ascension (RA) as a named tuple:  \n",
        "`hms = (hour, minute, second)`\n",
        "\n",
        "This format is especially useful in astronomical catalogs, telescope pointing systems, and human-readable reports where RA is traditionally expressed in sexagesimal units.\n",
        "\n",
        "Unlike `.ra.hour`, which returns a single float in hours, `.ra.hms` provides a full breakdown for easy formatting or display:\n",
        "\n",
        "- `coord.ra.hms.h`: hours  \n",
        "- `coord.ra.hms.m`: minutes  \n",
        "- `coord.ra.hms.s`: seconds\n",
        "\n",
        "The resulting values are pure floats, not `Quantity` objects, so units are implied by context rather than enforced.\n"
      ]
    },
    {
      "cell_type": "code",
      "execution_count": 7,
      "id": "4f3b3b38-0c17-48c7-82e7-86564a4059e1",
      "metadata": {
        "id": "4f3b3b38-0c17-48c7-82e7-86564a4059e1",
        "outputId": "2a28da5d-97d2-4ba8-e858-ef8cdf9490b1",
        "colab": {
          "base_uri": "https://localhost:8080/"
        }
      },
      "outputs": [
        {
          "output_type": "stream",
          "name": "stdout",
          "text": [
            "2.4087434450878074 -1.132064186074822\n"
          ]
        }
      ],
      "source": [
        "print(coord.ra.radian,coord.dec.radian)"
      ]
    },
    {
      "cell_type": "markdown",
      "id": "a8ccdbe1-b58f-4a52-9aec-f58c02e79541",
      "metadata": {
        "id": "a8ccdbe1-b58f-4a52-9aec-f58c02e79541"
      },
      "source": [
        "In this cell, we access the `.radian` attribute of the Right Ascension and Declination stored in the `SkyCoord` object.\n",
        "\n",
        "- `.ra.radian` returns the Right Ascension in **radians**\n",
        "- `.dec.radian` returns the Declination in **radians**\n",
        "\n",
        "Both values are returned as standard Python floats (not `Quantity` objects), and the unit is implicitly understood to be **radians**.\n",
        "\n",
        "This representation is useful when working with trigonometric functions from libraries like NumPy or SciPy, which expect input angles in radians. However, because units are no longer attached, it's important to track units manually and avoid unit mismatches.\n"
      ]
    },
    {
      "cell_type": "code",
      "execution_count": 8,
      "id": "e1d3c9a4-231f-41d6-9d72-fbbe198eb518",
      "metadata": {
        "id": "e1d3c9a4-231f-41d6-9d72-fbbe198eb518",
        "outputId": "88b33f11-2780-4250-8c6b-515f7eb38710",
        "colab": {
          "base_uri": "https://localhost:8080/"
        }
      },
      "outputs": [
        {
          "output_type": "stream",
          "name": "stdout",
          "text": [
            "138.011 -64.8625\n",
            "138d00m39s -64d51m45s\n",
            "09h12m02.6s -64d51m45s\n"
          ]
        }
      ],
      "source": [
        "print(coord.to_string('decimal'))\n",
        "print(coord.to_string('dms'))\n",
        "print(coord.to_string('hmsdms'))"
      ]
    },
    {
      "cell_type": "markdown",
      "id": "9dd71177-1a78-4fca-872f-9d6837cc3c11",
      "metadata": {
        "id": "9dd71177-1a78-4fca-872f-9d6837cc3c11"
      },
      "source": [
        "In this cell, we use the `.to_string()` method of the `SkyCoord` object to display the coordinates in various string formats.\n",
        "\n",
        "The method formats the Right Ascension and Declination into human-readable strings using different notations:\n",
        "\n",
        "- `coord.to_string('decimal')`  \n",
        "  Returns RA and Dec as decimal degrees, separated by a space.  \n",
        "  Example: `'138.0108 -64.8625'`\n",
        "\n",
        "- `coord.to_string('dms')`  \n",
        "  Returns both RA and Dec in **degrees:minutes:seconds (DMS)** format.  \n",
        "  Example: `'138d00m38.88s -64d51m45s'`  \n",
        "  This is useful when reporting coordinates in formats commonly used in catalogs or observational logs.\n",
        "\n",
        "- `coord.to_string('hmsdms')`  \n",
        "  Formats RA in **hours:minutes:seconds (HMS)** and Dec in **DMS**.  \n",
        "  Example: `'09h12m2.60s -64d51m45s'`  \n",
        "  This is the traditional astronomical format for sky coordinates.\n",
        "\n",
        "These formatting options are especially useful when exporting results, generating catalogs, or matching coordinate formats from external datasets.\n"
      ]
    },
    {
      "cell_type": "code",
      "execution_count": null,
      "id": "c846fb96-c966-4382-a08c-b5a46bfced3c",
      "metadata": {
        "id": "c846fb96-c966-4382-a08c-b5a46bfced3c",
        "outputId": "1f4c3e47-64e3-4a17-b625-8b98ab99174f"
      },
      "outputs": [
        {
          "name": "stdout",
          "output_type": "stream",
          "text": [
            "<SkyCoord (Galactic): (l, b) in deg\n",
            "    (282.19166541, -11.25257989)>\n"
          ]
        }
      ],
      "source": [
        "print(coord.galactic)"
      ]
    },
    {
      "cell_type": "markdown",
      "id": "a1d4fd00-5117-43b5-a0b8-ac4f13f633f1",
      "metadata": {
        "id": "a1d4fd00-5117-43b5-a0b8-ac4f13f633f1"
      },
      "source": [
        "In this cell, we access the `.galactic` attribute of the `SkyCoord` object to obtain the position of the same object (NGC 2808) in the **Galactic coordinate system**.\n",
        "\n",
        "The `.galactic` attribute returns a new `SkyCoord` object representing the same physical location on the sky, but in terms of:\n",
        "\n",
        "- **Galactic Longitude (`l`)** — measured in degrees, increasing in the direction of the Galactic rotation\n",
        "- **Galactic Latitude (`b`)** — measured in degrees, positive above the Galactic plane\n",
        "\n",
        "This transformation is handled internally by `astropy`, using the built-in coordinate transformation graph. The result remains a fully unit-aware `SkyCoord` object and can be further queried, transformed, or formatted like any other coordinate.\n",
        "\n",
        "Galactic coordinates are especially useful when studying the structure and components of the Milky Way.\n"
      ]
    },
    {
      "cell_type": "code",
      "execution_count": null,
      "id": "582b0cb8-8a66-431a-a9a7-c1f7071734ed",
      "metadata": {
        "id": "582b0cb8-8a66-431a-a9a7-c1f7071734ed",
        "outputId": "61aa3e27-95e3-4d0a-d44e-be02f6da8e06"
      },
      "outputs": [
        {
          "name": "stdout",
          "output_type": "stream",
          "text": [
            "<SkyCoord (ICRS): (ra, dec) in deg\n",
            "    (138.01291667, -64.8635)>\n"
          ]
        }
      ],
      "source": [
        "NGC_2808 = SkyCoord.from_name(\"NGC 2808\")\n",
        "print(NGC_2808)"
      ]
    },
    {
      "cell_type": "markdown",
      "id": "aef07d06-7e26-47c2-bb80-8da91826ec41",
      "metadata": {
        "id": "aef07d06-7e26-47c2-bb80-8da91826ec41"
      },
      "source": [
        "In this cell, we use `SkyCoord.from_name()` to automatically retrieve the celestial coordinates of **NGC 2808** by querying the **SIMBAD** astronomical database.\n",
        "\n",
        "This method sends a network request and resolves the name `\"NGC 2808\"` to its ICRS (RA/Dec) coordinates. The returned result is a standard `SkyCoord` object, ready for further use.\n",
        "\n",
        "This feature is especially helpful when working with named astronomical objects, saving time and reducing errors compared to manually entering coordinates.\n",
        "\n",
        "> **Pro tip**: Even if you're banned from Google or can't load Wikipedia, you can still resolve star cluster positions like a pro! Thanks to `astropy` and SIMBAD!\n"
      ]
    },
    {
      "cell_type": "code",
      "execution_count": null,
      "id": "5b560dd5-6982-4705-9679-1cc8af1bf55d",
      "metadata": {
        "id": "5b560dd5-6982-4705-9679-1cc8af1bf55d",
        "outputId": "79158b4e-0b1a-411a-e92c-328a7f64fd2b"
      },
      "outputs": [
        {
          "name": "stdout",
          "output_type": "stream",
          "text": [
            "<SkyCoord (ICRS): (ra, dec, distance) in (deg, deg, kpc)\n",
            "    [(  6.023625, -72.081283,  4.5), ( 13.18875 , -26.582806,  8.9),\n",
            "     ( 78.528625, -40.046875, 12.1), ( 81.046667, -24.524139, 12.9),\n",
            "     (138.0108  , -64.8625  ,  9.6), (201.6975  , -47.479722,  5.2),\n",
            "     (229.63875 ,   2.081   ,  7.5), (250.4225  ,  36.460278,  7.7),\n",
            "     (265.175833, -53.674694,  2.3), (322.493958,  12.16625 , 10.4)]>\n"
          ]
        }
      ],
      "source": [
        "ra_deg = np.array([6.023625, 13.18875, 78.528625, 81.046667, 138.0108,\n",
        "                   201.6975, 229.63875, 250.4225, 265.175833, 322.493958])\n",
        "dec_deg = np.array([-72.081283, -26.582806, -40.046875, -24.524139, -64.8625,\n",
        "                    -47.479722, 2.081, 36.460278, -53.674694, 12.16625])\n",
        "\n",
        "cluster_names = np.array([\n",
        "    \"NGC 104\",    # 47 Tucanae\n",
        "    \"NGC 288\",\n",
        "    \"NGC 1851\",\n",
        "    \"NGC 1904\",   # M79\n",
        "    \"NGC 2808\",\n",
        "    \"NGC 5139\",   # Omega Centauri\n",
        "    \"NGC 5904\",   # M5\n",
        "    \"NGC 6205\",   # M13\n",
        "    \"NGC 6397\",\n",
        "    \"NGC 7078\"    # M15\n",
        "])\n",
        "\n",
        "dist_kpc = np.array([\n",
        "    4.5, 8.9, 12.1, 12.9, 9.6,\n",
        "    5.2, 7.5, 7.7, 2.3, 10.4\n",
        "])  #GAIA/DR3 distances\n",
        "\n",
        "cluster_coords = SkyCoord(ra=ra_deg * u.deg, dec=dec_deg * u.deg, distance = dist_kpc*u.kpc, frame='icrs') # Create a SkyCoord array from NumPy arrays\n",
        "print(cluster_coords) #RA and Dec in degrees for 10 globular clusters (J2000)"
      ]
    },
    {
      "cell_type": "markdown",
      "id": "98fe4e72-c47f-468b-88fd-ec2f9f269b15",
      "metadata": {
        "id": "98fe4e72-c47f-468b-88fd-ec2f9f269b15"
      },
      "source": [
        "### Using NumPy Arrays with `SkyCoord`\n",
        "\n",
        "In this cell, we demonstrate how to create a `SkyCoord` object using **NumPy arrays** for multiple celestial objects.\n",
        "\n",
        "We define:\n",
        "- An array of **Right Ascension** (`ra_deg`) values in degrees  \n",
        "- An array of **Declination** (`dec_deg`) values in degrees  \n",
        "- An array of **distances** (`dist_kpc`) in kiloparsecs  \n",
        "- A list of **names** for 10 well-known globular clusters\n",
        "\n",
        "By passing these arrays directly into the `SkyCoord` constructor along with their appropriate units, we create a structured collection of coordinates. Each element includes full 3D spatial information: angular position (RA, Dec) and distance.\n",
        "\n",
        "This approach allows efficient, vectorized operations on many coordinates at once and is ideal for working with astronomical catalogs and large datasets.\n"
      ]
    },
    {
      "cell_type": "code",
      "execution_count": null,
      "id": "bcd7543a-3da0-40b0-9487-e4f2a1fdbe12",
      "metadata": {
        "id": "bcd7543a-3da0-40b0-9487-e4f2a1fdbe12",
        "outputId": "c19490ce-47f6-4b8d-b140-18ba58db867b"
      },
      "outputs": [
        {
          "name": "stdout",
          "output_type": "stream",
          "text": [
            "3D distance between NGC 104 and NGC 7078: 11.26 kpc\n",
            "Angular separation NGC 104 and NGC 7078: 89.00 deg\n"
          ]
        }
      ],
      "source": [
        "sep_3d = cluster_coords[0].separation_3d(cluster_coords[9])\n",
        "sep_ang = cluster_coords[0].separation(cluster_coords[9])\n",
        "print(f\"3D distance between {cluster_names[0]} and {cluster_names[9]}: {sep_3d.to(u.kpc):.2f}\")\n",
        "print(f\"Angular separation {cluster_names[0]} and {cluster_names[9]}: {sep_ang.to(u.degree):.2f}\")"
      ]
    },
    {
      "cell_type": "markdown",
      "id": "075ca3b4-9af7-44cc-929a-e6da0ca683f5",
      "metadata": {
        "id": "075ca3b4-9af7-44cc-929a-e6da0ca683f5"
      },
      "source": [
        "### Measuring 3D Distance Between Two Globular Clusters\n",
        "\n",
        "In this cell, we compute the **true spatial separation** between two globular clusters using their full 3D coordinates.\n",
        "\n",
        "Specifically, we call:\n",
        "\n",
        "```python\n",
        "cluster_coords[0].separation_3d(cluster_coords[9])\n",
        "```\n",
        "\n",
        "This computes the **Euclidean distance in 3D space** between the first cluster (`NGC 104`) and the last cluster (`NGC 7078`) in our list.\n",
        "\n",
        "Unlike angular separation (which only considers position on the sky), `.separation_3d()` uses both:\n",
        "- Angular coordinates (RA, Dec)\n",
        "- Radial distances (in kiloparsecs)\n",
        "\n",
        "The result is returned as a `Quantity` with physical units (e.g., `kpc`), giving the **true line-of-sight separation** between the two objects in three-dimensional space.\n"
      ]
    },
    {
      "cell_type": "markdown",
      "id": "d2c119fb-b6d4-4a12-962e-717e08cf34fd",
      "metadata": {
        "id": "d2c119fb-b6d4-4a12-962e-717e08cf34fd"
      },
      "source": [
        "### Working with Angles in `astropy.coordinates`\n",
        "\n",
        "In astronomy, angles are everywhere — from sky coordinates (RA/Dec, Alt/Az) to angular separations, field of view, proper motions, and more. To handle such angular quantities with both **unit safety** and **astronomical precision**, `astropy.coordinates` provides the `Angle` class.\n",
        "\n",
        "The `Angle` object is a specialized form of `Quantity` designed specifically for angular values. It allows:\n",
        "\n",
        "- Flexible creation from degrees, radians, hours, DMS, or HMS strings\n",
        "- Easy conversion between angular formats\n",
        "- Safe arithmetic (addition, subtraction, wrapping)\n",
        "- High-precision comparison and transformations\n",
        "- Use of custom wrapping and normalization (e.g. `wrap_at(180*u.deg)`)\n",
        "\n",
        "Because `Angle` is fully unit-aware and interoperable with `SkyCoord`, it's ideal for precise and readable angular computations — whether you're rotating frames, computing angular distances, or converting between coordinate systems.\n",
        "\n",
        "In short, the `Angle` class gives you both the **power of astropy.units** and the **expressiveness of astronomical angular conventions**, all in one object.\n"
      ]
    },
    {
      "cell_type": "code",
      "execution_count": null,
      "id": "b1f21d91-4dc1-4204-8263-1a367f98bf1d",
      "metadata": {
        "id": "b1f21d91-4dc1-4204-8263-1a367f98bf1d",
        "outputId": "d526cb88-620c-4cef-8ba5-fe2a651072bb"
      },
      "outputs": [
        {
          "data": {
            "text/latex": [
              "$10^\\circ14{}^\\prime04.2{}^{\\prime\\prime}$"
            ],
            "text/plain": [
              "<Angle 10.2345 deg>"
            ]
          },
          "execution_count": 12,
          "metadata": {},
          "output_type": "execute_result"
        }
      ],
      "source": [
        "from astropy.coordinates import Angle\n",
        "Angle('10.2345d')              # String with 'd' abbreviation for degrees\n",
        "Angle(['10.2345d', '-20d'])    # Array of strings\n",
        "Angle('1:2:30.43 degrees')     # Sexagesimal degrees\n",
        "Angle('1 2 0 hours')           # Sexagesimal hours\n",
        "Angle(np.arange(1., 8.), unit=u.deg)  # Numpy array from 1..7 in degrees\n",
        "Angle('1°2′3″')               # Unicode degree, arcmin and arcsec symbols\n",
        "Angle('1°2′3″N')               # Unicode degree, arcmin, arcsec symbols and direction\n",
        "Angle('1d2m3.4s')              # Degree, arcmin, arcsec.\n",
        "Angle('1d2m3.4sS')              # Degree, arcmin, arcsec, direction.\n",
        "Angle('-1h2m3s')               # Hour, minute, second\n",
        "Angle('-1h2m3sW')               # Hour, minute, second, direction\n",
        "Angle(10.2345 * u.deg)         # From a Quantity object in degrees\n",
        "Angle(Angle(10.2345 * u.deg))  # From another Angle object"
      ]
    },
    {
      "cell_type": "code",
      "execution_count": null,
      "id": "af1a3380-1c23-4ae6-b037-9871a658b8b9",
      "metadata": {
        "id": "af1a3380-1c23-4ae6-b037-9871a658b8b9",
        "outputId": "347e45c4-3220-4a44-f5d5-d6a3097599a4"
      },
      "outputs": [
        {
          "name": "stdout",
          "output_type": "stream",
          "text": [
            "Sum: 12.75 deg\n",
            "Difference: 8.25 deg\n"
          ]
        }
      ],
      "source": [
        "a1 = Angle(\"10d30m\")\n",
        "a2 = Angle(\"2d15m\")\n",
        "a3 = a1 + a2\n",
        "a4 = a1 - a2\n",
        "print(f\"Sum: {a3}\")\n",
        "print(f\"Difference: {a4}\")"
      ]
    },
    {
      "cell_type": "markdown",
      "id": "11397004-4e39-4cf0-bf3d-b039bdef396a",
      "metadata": {
        "id": "11397004-4e39-4cf0-bf3d-b039bdef396a"
      },
      "source": [
        "### Angle Arithmetic\n",
        "\n",
        "`Angle` objects support standard arithmetic:\n",
        "- Addition and subtraction\n",
        "- Multiplication/division by scalars\n",
        "- Array operations\n",
        "\n",
        "This is especially useful when calculating angular distances or adjusting positions.\n"
      ]
    },
    {
      "cell_type": "markdown",
      "id": "c6f1f0e3-dc1e-460c-8ad7-d80825d00ff6",
      "metadata": {
        "id": "c6f1f0e3-dc1e-460c-8ad7-d80825d00ff6"
      },
      "source": [
        "# Summary: Core Concepts of `astropy.coordinates`\n",
        "\n",
        "In this lesson, we explored the fundamental capabilities of the `astropy.coordinates` subpackage:\n",
        "\n",
        "- Creation of coordinate objects using `SkyCoord` with scalar and array inputs\n",
        "- Representation and formatting of celestial coordinates in degrees, radians, hms/dms\n",
        "- Transformations between coordinate systems (e.g., ICRS, Galactic)\n",
        "- Extraction of coordinate attributes (`ra`, `dec`, `galactic`, `.radian`, `.hms`, etc.)\n",
        "- Name-based lookups using `SkyCoord.from_name()`\n",
        "- Angular and 3D spatial separation calculations\n",
        "- Vectorized coordinate handling using NumPy arrays\n",
        "\n",
        "---\n",
        "\n",
        "## Additional Topics Worth Exploring\n",
        "\n",
        "We have only touched the surface of what `astropy.coordinates` can do. The following topics are highly recommended for further study:\n",
        "\n",
        "### Coordinate Systems and Frame Transformations\n",
        "- Full transformation graph between supported frames\n",
        "- Custom frames and intermediate transformations  \n",
        "[Docs: Transforming Coordinates](https://docs.astropy.org/en/stable/coordinates/transforming.html)\n",
        "\n",
        "### AltAz and Observational Coordinates\n",
        "- Working with `AltAz` frame for ground-based observations\n",
        "- Using `EarthLocation` and `Time` for observer-specific calculations  \n",
        "[Docs: AltAz Coordinates](https://docs.astropy.org/en/stable/coordinates/altaz.html)\n",
        "\n",
        "### EarthLocation and Time-Aware Coordinates\n",
        "- Creating observer locations with `EarthLocation`\n",
        "- Combining with `Time` for precision observation planning  \n",
        "[Docs: EarthLocation](https://docs.astropy.org/en/stable/api/astropy.coordinates.EarthLocation.html)\n",
        "\n",
        "### Proper Motions and Radial Velocities\n",
        "- Representing space motion using `proper_motion` and `radial_velocity`\n",
        "- Time propagation of position and velocity  \n",
        "[Docs: Motions](https://docs.astropy.org/en/stable/coordinates/motion.html)\n",
        "\n",
        "### Angle Utilities\n",
        "- Use of `Angle`, `Latitude`, and `Longitude` classes\n",
        "- Trigonometric operations, formatting, wrapping  \n",
        "[Docs: Angle Classes](https://docs.astropy.org/en/stable/api/astropy.coordinates.Angle.html)\n",
        "\n",
        "---\n",
        "\n",
        "## Recommendations\n",
        "\n",
        "- Use `SkyCoord` for all celestial position representations.\n",
        "- Always use physical units with `astropy.units` for clarity and safety.\n",
        "- Leverage vectorization with NumPy for working with large coordinate sets.\n",
        "- Understand when and how to use coordinate transformations.\n",
        "- Explore observational frames (`AltAz`, `Geocentric`, `Heliocentric`) for real-world scenarios.\n",
        "\n",
        "For the full documentation, see:  \n",
        "[https://docs.astropy.org/en/stable/coordinates/index.html](https://docs.astropy.org/en/stable/coordinates/index.html)\n"
      ]
    }
  ],
  "metadata": {
    "kernelspec": {
      "display_name": "Python 3 (ipykernel)",
      "language": "python",
      "name": "python3"
    },
    "language_info": {
      "codemirror_mode": {
        "name": "ipython",
        "version": 3
      },
      "file_extension": ".py",
      "mimetype": "text/x-python",
      "name": "python",
      "nbconvert_exporter": "python",
      "pygments_lexer": "ipython3",
      "version": "3.10.11"
    },
    "colab": {
      "provenance": []
    }
  },
  "nbformat": 4,
  "nbformat_minor": 5
}
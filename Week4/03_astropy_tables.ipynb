{
  "cells": [
    {
      "cell_type": "markdown",
      "id": "89334314-7a55-4a4b-aeaa-b5b2930d79a4",
      "metadata": {
        "id": "89334314-7a55-4a4b-aeaa-b5b2930d79a4"
      },
      "source": [
        "# Introduction to `astropy.table`\n",
        "\n",
        "[![Open In Colab](https://colab.research.google.com/assets/colab-badge.svg)](https://colab.research.google.com/github/Danselem/brics_astro/blob/main/Week4/03_astropy_tables.ipynb)\n",
        "\n",
        "The `astropy.table` subpackage provides a powerful, flexible, and astronomy-focused framework for working with structured tabular data. While general-purpose tools like `pandas` are widely used in data science, `astropy.table` is designed specifically for use in astronomy and integrates seamlessly with the rest of the Astropy ecosystem.\n",
        "\n",
        "---\n",
        "\n",
        "## Why Use `astropy.table`?\n",
        "\n",
        "Unlike `pandas.DataFrame`, which is optimized for speed and general-purpose data analysis, `astropy.table.Table` is tailored to the needs of scientific workflows:\n",
        "\n",
        "- Built-in support for physical units via `astropy.units`\n",
        "- Native compatibility with astronomical data formats like **FITS**, **ECSV**, **VOTable**, and more\n",
        "- Easy column-level metadata (units, descriptions, formats, masks)\n",
        "- Full compatibility with `SkyCoord`, `Time`, and other Astropy objects\n",
        "- Precise control over input/output formats and serialization\n",
        "- Integration with tools like `astroquery`, `astropy.io`, and plotting utilities\n",
        "\n",
        "While both `Table` and `DataFrame` store data in a column-oriented structure and allow similar operations like slicing, indexing, and filtering, `astropy.table` emphasizes scientific transparency, reproducibility, and unit-awareness — all crucial for reliable astronomical computations.\n",
        "\n",
        "---\n",
        "\n",
        "## Context in the Astropy Ecosystem\n",
        "\n",
        "Just as `astropy.units` is fundamental for ensuring dimensional consistency, `astropy.table` is essential for managing, organizing, and analyzing astronomical datasets. It appears throughout the ecosystem:\n",
        "\n",
        "- As the output format of catalog queries (e.g., via `astroquery`)\n",
        "- In reading/writing **FITS** and **ASCII** data formats\n",
        "- In manipulation of observation logs, catalogs, and simulation results\n",
        "- As a data structure passed to plotting functions and modeling tools\n",
        "\n",
        "Understanding `astropy.table` is therefore **crucial** for working with real-world astronomical data and for building reproducible, unit-aware data pipelines.\n",
        "\n",
        "---\n",
        "\n",
        "In the following cells, we will explore the structure, creation, manipulation, and I/O capabilities of `astropy.table.Table`.\n",
        "\n",
        "**Note**\n",
        "If you are running this jupyter notebook from Colab, then run the next cell by pressing `SHIFT+ENTER` to install the required packages for this notebook. Otherwise, skip the next cell."
      ]
    },
    {
      "cell_type": "code",
      "execution_count": null,
      "id": "3f8ac098-95b1-413a-b844-b8fdd3b6c5a8",
      "metadata": {
        "id": "3f8ac098-95b1-413a-b844-b8fdd3b6c5a8"
      },
      "outputs": [],
      "source": [
        "!pip install -q astropy"
      ]
    },
    {
      "cell_type": "code",
      "execution_count": null,
      "id": "9c857999-a6c5-45b8-8c67-ed5991be6b70",
      "metadata": {
        "id": "9c857999-a6c5-45b8-8c67-ed5991be6b70",
        "outputId": "d0fa179b-9d6e-463b-f35f-5fb301bf999b"
      },
      "outputs": [
        {
          "data": {
            "text/html": [
              "<div><i>QTable length=5</i>\n",
              "<table id=\"table4403436976\" class=\"table-striped table-bordered table-condensed\">\n",
              "<thead><tr><th>Star</th><th>Distance</th><th>App_Mag</th><th>Abs_Mag</th><th>Temperature</th><th>Radius</th><th>Spectral_Type</th></tr></thead>\n",
              "<thead><tr><th></th><th>lyr</th><th>mag</th><th>mag</th><th>K</th><th>solRad</th><th></th></tr></thead>\n",
              "<thead><tr><th>str16</th><th>float64</th><th>float64</th><th>float64</th><th>float64</th><th>float64</th><th>str6</th></tr></thead>\n",
              "<tr><td>Proxima Centauri</td><td>4.24</td><td>11.13</td><td>15.5</td><td>3042.0</td><td>0.14</td><td>M5.5Ve</td></tr>\n",
              "<tr><td>Alpha Centauri A</td><td>4.37</td><td>-0.01</td><td>4.38</td><td>5790.0</td><td>1.22</td><td>G2V</td></tr>\n",
              "<tr><td>Barnard&apos;s Star</td><td>5.96</td><td>9.54</td><td>13.2</td><td>3134.0</td><td>0.18</td><td>M4.0Ve</td></tr>\n",
              "<tr><td>Wolf 359</td><td>7.86</td><td>13.5</td><td>16.6</td><td>2800.0</td><td>0.16</td><td>M6.0Ve</td></tr>\n",
              "<tr><td>Luyten 726-8A</td><td>8.73</td><td>12.6</td><td>15.0</td><td>2650.0</td><td>0.12</td><td>M5.5Ve</td></tr>\n",
              "</table></div>"
            ],
            "text/plain": [
              "<QTable length=5>\n",
              "      Star       Distance App_Mag Abs_Mag Temperature  Radius Spectral_Type\n",
              "                   lyr      mag     mag        K       solRad              \n",
              "     str16       float64  float64 float64   float64   float64      str6    \n",
              "---------------- -------- ------- ------- ----------- ------- -------------\n",
              "Proxima Centauri     4.24   11.13    15.5      3042.0    0.14        M5.5Ve\n",
              "Alpha Centauri A     4.37   -0.01    4.38      5790.0    1.22           G2V\n",
              "  Barnard's Star     5.96    9.54    13.2      3134.0    0.18        M4.0Ve\n",
              "        Wolf 359     7.86    13.5    16.6      2800.0    0.16        M6.0Ve\n",
              "   Luyten 726-8A     8.73    12.6    15.0      2650.0    0.12        M5.5Ve"
            ]
          },
          "execution_count": 1,
          "metadata": {},
          "output_type": "execute_result"
        }
      ],
      "source": [
        "from astropy.table import QTable\n",
        "import astropy.units as u\n",
        "import numpy as np\n",
        "\n",
        "star_names = np.array([\"Proxima Centauri\", \"Alpha Centauri A\", \"Barnard's Star\", \"Wolf 359\", \"Luyten 726-8A\"])\n",
        "distances = np.array([4.24, 4.37, 5.96, 7.86, 8.73]) * u.lyr\n",
        "apparent_mags = np.array([11.13, -0.01, 9.54, 13.5, 12.6]) * u.mag\n",
        "absolute_mags = np.array([15.5, 4.38, 13.2, 16.6, 15.0]) * u.mag\n",
        "temperatures = np.array([3042, 5790, 3134, 2800, 2650]) * u.K\n",
        "radii = np.array([0.14, 1.22, 0.18, 0.16, 0.12]) * u.R_sun\n",
        "spectral_types = np.array([\"M5.5Ve\", \"G2V\", \"M4.0Ve\", \"M6.0Ve\", \"M5.5Ve\"])\n",
        "\n",
        "stars_table = QTable(\n",
        "    [star_names, distances, apparent_mags, absolute_mags, temperatures, radii, spectral_types],\n",
        "    names=[\"Star\", \"Distance\", \"App_Mag\", \"Abs_Mag\", \"Temperature\", \"Radius\", \"Spectral_Type\"], meta={'name': 'stars_table'})\n",
        "\n",
        "stars_table"
      ]
    },
    {
      "cell_type": "markdown",
      "id": "426df74a-b146-498e-b8c6-e2bd8c23056d",
      "metadata": {
        "id": "426df74a-b146-498e-b8c6-e2bd8c23056d"
      },
      "source": [
        "### Description of the Table Construction\n",
        "\n",
        "In this cell, we construct a `QTable` using NumPy arrays for each column:\n",
        "\n",
        "- The variable `star_names` holds the names of the five nearby stars (as strings).\n",
        "- `distances` contains their distances from Earth in light-years, defined with units using `astropy.units`.\n",
        "- `apparent_mags` and `absolute_mags` represent the stars' apparent and absolute magnitudes, respectively.\n",
        "- `temperatures` stores the effective temperatures in kelvin.\n",
        "- `radii` contains the stellar radii, each expressed in solar radii (`R_sun`).\n",
        "- `spectral_types` holds the stars' spectral classifications as strings.\n",
        "\n",
        "All arrays are passed into `QTable` as a list of columns along with their corresponding names. Since many columns are physical quantities, they retain unit-awareness, which allows for further physical calculations later on (e.g., computing luminosity).\n"
      ]
    },
    {
      "cell_type": "code",
      "execution_count": null,
      "id": "1fce4450-5eef-4731-9836-3a1ef3e984a9",
      "metadata": {
        "id": "1fce4450-5eef-4731-9836-3a1ef3e984a9",
        "outputId": "c0012e87-cb64-4798-f66c-a55ce3354c06"
      },
      "outputs": [
        {
          "name": "stdout",
          "output_type": "stream",
          "text": [
            "      Star       Distance App_Mag Abs_Mag Temperature Radius Spectral_Type\n",
            "                   lyr      mag     mag        K      solRad              \n",
            "---------------- -------- ------- ------- ----------- ------ -------------\n",
            "Proxima Centauri     4.24   11.13    15.5      3042.0   0.14        M5.5Ve\n",
            "Alpha Centauri A     4.37   -0.01    4.38      5790.0   1.22           G2V\n",
            "  Barnard's Star     5.96    9.54    13.2      3134.0   0.18        M4.0Ve\n",
            "        Wolf 359     7.86    13.5    16.6      2800.0   0.16        M6.0Ve\n",
            "   Luyten 726-8A     8.73    12.6    15.0      2650.0   0.12        M5.5Ve\n"
          ]
        }
      ],
      "source": [
        "print(stars_table)"
      ]
    },
    {
      "cell_type": "code",
      "execution_count": null,
      "id": "873abfe2-c12f-463c-968f-86ce705f173a",
      "metadata": {
        "id": "873abfe2-c12f-463c-968f-86ce705f173a",
        "outputId": "51459660-b98d-41f0-da13-2c963a8cf331"
      },
      "outputs": [
        {
          "name": "stdout",
          "output_type": "stream",
          "text": [
            "      Star       Distance App_Mag Abs_Mag Temperature Radius Spectral_Type\n",
            "                   lyr      mag     mag        K      solRad              \n",
            "---------------- -------- ------- ------- ----------- ------ -------------\n",
            "Proxima Centauri     4.24   11.13    15.5        3042   0.14        M5.5Ve\n",
            "Alpha Centauri A     4.37   -0.01    4.38        5790   1.22           G2V\n",
            "  Barnard's Star     5.96    9.54    13.2        3134   0.18        M4.0Ve\n",
            "        Wolf 359     7.86    13.5    16.6        2800   0.16        M6.0Ve\n",
            "   Luyten 726-8A     8.73    12.6    15.0        2650   0.12        M5.5Ve\n"
          ]
        }
      ],
      "source": [
        "stars_table['Temperature'].info.format = '5.0f'\n",
        "print(stars_table)"
      ]
    },
    {
      "cell_type": "code",
      "execution_count": null,
      "id": "c9ba6b1e-247b-42c9-86fb-4a20531d2137",
      "metadata": {
        "id": "c9ba6b1e-247b-42c9-86fb-4a20531d2137",
        "outputId": "a2ef1f03-6c20-4d28-ed13-4b9b5673c64b"
      },
      "outputs": [
        {
          "data": {
            "text/plain": [
              "<QTable length=5>\n",
              "     name      dtype   unit  format  class  \n",
              "------------- ------- ------ ------ --------\n",
              "         Star   str16                 Column\n",
              "     Distance float64    lyr        Quantity\n",
              "      App_Mag float64    mag        Quantity\n",
              "      Abs_Mag float64    mag        Quantity\n",
              "  Temperature float64      K   5.0f Quantity\n",
              "       Radius float64 solRad        Quantity\n",
              "Spectral_Type    str6                 Column"
            ]
          },
          "execution_count": 4,
          "metadata": {},
          "output_type": "execute_result"
        }
      ],
      "source": [
        "stars_table.info"
      ]
    },
    {
      "cell_type": "code",
      "execution_count": null,
      "id": "78783405-b99c-419b-9f38-d9292bba1293",
      "metadata": {
        "id": "78783405-b99c-419b-9f38-d9292bba1293",
        "outputId": "f579d346-b2cf-46be-b852-2a17c5aad30a"
      },
      "outputs": [
        {
          "data": {
            "text/plain": [
              "['Star',\n",
              " 'Distance',\n",
              " 'App_Mag',\n",
              " 'Abs_Mag',\n",
              " 'Temperature',\n",
              " 'Radius',\n",
              " 'Spectral_Type']"
            ]
          },
          "execution_count": 5,
          "metadata": {},
          "output_type": "execute_result"
        }
      ],
      "source": [
        "stars_table.colnames #Names of columnes in table"
      ]
    },
    {
      "cell_type": "code",
      "execution_count": null,
      "id": "b76451b0-4589-4d3a-89a5-6b665a8a5710",
      "metadata": {
        "id": "b76451b0-4589-4d3a-89a5-6b665a8a5710",
        "outputId": "ecc72ff9-ba85-453f-bece-bfde8315a6cd"
      },
      "outputs": [
        {
          "data": {
            "text/plain": [
              "{'name': 'stars_table'}"
            ]
          },
          "execution_count": 6,
          "metadata": {},
          "output_type": "execute_result"
        }
      ],
      "source": [
        "stars_table.meta"
      ]
    },
    {
      "cell_type": "code",
      "execution_count": null,
      "id": "2493deae-3adb-4763-89c4-c65f92b08fa5",
      "metadata": {
        "id": "2493deae-3adb-4763-89c4-c65f92b08fa5",
        "outputId": "b0f565e5-5926-4152-dd2d-41f43fdbf2f6"
      },
      "outputs": [
        {
          "name": "stdout",
          "output_type": "stream",
          "text": [
            "<class 'astropy.units.quantity.Quantity'>\n"
          ]
        }
      ],
      "source": [
        "print(type(stars_table['Temperature'])) #class Quantity"
      ]
    },
    {
      "cell_type": "code",
      "execution_count": null,
      "id": "f7777b87-2cc4-4737-a319-f42dd18dd33a",
      "metadata": {
        "id": "f7777b87-2cc4-4737-a319-f42dd18dd33a",
        "outputId": "79900b97-62d0-4c61-9e25-10aa388841ae"
      },
      "outputs": [
        {
          "name": "stdout",
          "output_type": "stream",
          "text": [
            "[3042. 5790. 3134. 2800. 2650.] K\n",
            "3042.0 K\n",
            "3042.0 K\n"
          ]
        }
      ],
      "source": [
        "print(stars_table['Temperature']) #Column Temperature'\n",
        "print(stars_table['Temperature'][0]) # Row 0 of column 'Temperature'\n",
        "print(stars_table[0]['Temperature']) # Column 'Temperature' of row 0"
      ]
    },
    {
      "cell_type": "code",
      "execution_count": null,
      "id": "1902d5b0-ede0-4386-acdc-c2140d519a23",
      "metadata": {
        "id": "1902d5b0-ede0-4386-acdc-c2140d519a23",
        "outputId": "e6ec65dc-114b-41a7-ca27-1f94284117e6"
      },
      "outputs": [
        {
          "name": "stdout",
          "output_type": "stream",
          "text": [
            "[3042. 5790. 3134. 2800. 2650.]\n",
            "<class 'numpy.ndarray'>\n"
          ]
        }
      ],
      "source": [
        "print(stars_table['Temperature'].value)   #Knowledge about Quantity still useful here\n",
        "print(type(stars_table['Temperature'].value))"
      ]
    },
    {
      "cell_type": "markdown",
      "id": "8474fbdb-0ed5-466d-8e45-91352036db11",
      "metadata": {
        "id": "8474fbdb-0ed5-466d-8e45-91352036db11"
      },
      "source": [
        "### Accessing Data in a `QTable`\n",
        "\n",
        "This example shows different ways to access data from a `QTable`:\n",
        "\n",
        "- `stars_table['Temperature']`  \n",
        "  Accesses the entire **Temperature column** as a `Quantity` array with units.\n",
        "\n",
        "- `stars_table['Temperature'][0]`  \n",
        "  Accesses the **first value** in the Temperature column — a single scalar quantity with units.\n",
        "\n",
        "- `stars_table[0]['Temperature']`  \n",
        "  Accesses the **Temperature field** from the **first row**, which returns the same result as above.\n",
        "\n",
        "Both `stars_table['col'][row]` and `stars_table[row]['col']` are valid, but the second form (`table[row]['col']`) is useful when accessing multiple fields from a single row as a record.\n",
        "\n",
        "This flexibility allows convenient slicing and indexing for both **row-wise** and **column-wise** operations.\n"
      ]
    },
    {
      "cell_type": "code",
      "execution_count": null,
      "id": "4ba39b5c-d49f-4c01-9690-2606829a8e45",
      "metadata": {
        "id": "4ba39b5c-d49f-4c01-9690-2606829a8e45",
        "outputId": "1c7cd18c-b380-4efb-fea1-3f50531b0192"
      },
      "outputs": [
        {
          "name": "stdout",
          "output_type": "stream",
          "text": [
            "      Star       Distance App_Mag Abs_Mag Temperature Radius Spectral_Type\n",
            "                   lyr      mag     mag        K      solRad              \n",
            "---------------- -------- ------- ------- ----------- ------ -------------\n",
            "Proxima Centauri     4.24   11.13    15.5        3042   0.14        M5.5Ve\n",
            "Alpha Centauri A     4.37   -0.01    4.38        5790   1.22           G2V\n"
          ]
        }
      ],
      "source": [
        "print(stars_table[0:2])"
      ]
    },
    {
      "cell_type": "code",
      "execution_count": null,
      "id": "25e8878b-f7eb-4870-92ec-959afe818003",
      "metadata": {
        "id": "25e8878b-f7eb-4870-92ec-959afe818003",
        "outputId": "e175114b-fba2-482e-ad84-4491a9fa2aa9"
      },
      "outputs": [
        {
          "name": "stdout",
          "output_type": "stream",
          "text": [
            "Temperature Distance\n",
            "     K        lyr   \n",
            "----------- --------\n",
            "       3042     4.24\n",
            "       5790     4.37\n",
            "       3134     5.96\n",
            "       2800     7.86\n",
            "       2650     8.73\n"
          ]
        }
      ],
      "source": [
        "print(stars_table['Temperature','Distance'])"
      ]
    },
    {
      "cell_type": "code",
      "execution_count": null,
      "id": "2cf7f688-00e1-465e-b939-36fe1b833c40",
      "metadata": {
        "id": "2cf7f688-00e1-465e-b939-36fe1b833c40",
        "outputId": "cc65d59d-fd99-40dd-eb52-09de136d2f13"
      },
      "outputs": [
        {
          "name": "stdout",
          "output_type": "stream",
          "text": [
            "K\n"
          ]
        }
      ],
      "source": [
        "print(stars_table['Temperature'].unit)"
      ]
    },
    {
      "cell_type": "code",
      "execution_count": null,
      "id": "b1debe6b-fb0f-41b3-a4cf-50ae67799a9a",
      "metadata": {
        "id": "b1debe6b-fb0f-41b3-a4cf-50ae67799a9a"
      },
      "outputs": [],
      "source": [
        "from astropy.constants import sigma_sb\n",
        "\n",
        "R = stars_table['Radius']\n",
        "T = stars_table['Temperature']\n",
        "\n",
        "luminosity = 4 * np.pi * R**2 * sigma_sb * T**4\n",
        "luminosities_Lsun = luminosity.to(u.L_sun)\n",
        "\n",
        "stars_table['Luminosity'] = luminosities_Lsun  #add new column to table"
      ]
    },
    {
      "cell_type": "code",
      "execution_count": null,
      "id": "00546c3a-abad-4910-a1f2-0c93bc66e3d0",
      "metadata": {
        "id": "00546c3a-abad-4910-a1f2-0c93bc66e3d0",
        "outputId": "04db68cd-4cb9-4644-f2c8-5d789301f0bd"
      },
      "outputs": [
        {
          "data": {
            "text/html": [
              "<div><i>QTable length=5</i>\n",
              "<table id=\"table4403436976\" class=\"table-striped table-bordered table-condensed\">\n",
              "<thead><tr><th>Star</th><th>Distance</th><th>App_Mag</th><th>Abs_Mag</th><th>Temperature</th><th>Radius</th><th>Spectral_Type</th><th>Luminosity</th></tr></thead>\n",
              "<thead><tr><th></th><th>lyr</th><th>mag</th><th>mag</th><th>K</th><th>solRad</th><th></th><th>solLum</th></tr></thead>\n",
              "<thead><tr><th>str16</th><th>float64</th><th>float64</th><th>float64</th><th>float64</th><th>float64</th><th>str6</th><th>float64</th></tr></thead>\n",
              "<tr><td>Proxima Centauri</td><td>4.24</td><td>11.13</td><td>15.5</td><td>3042</td><td>0.14</td><td>M5.5Ve</td><td>0.0015121211520600123</td></tr>\n",
              "<tr><td>Alpha Centauri A</td><td>4.37</td><td>-0.01</td><td>4.38</td><td>5790</td><td>1.22</td><td>G2V</td><td>1.5070497682487838</td></tr>\n",
              "<tr><td>Barnard&apos;s Star</td><td>5.96</td><td>9.54</td><td>13.2</td><td>3134</td><td>0.18</td><td>M4.0Ve</td><td>0.0028160130105810885</td></tr>\n",
              "<tr><td>Wolf 359</td><td>7.86</td><td>13.5</td><td>16.6</td><td>2800</td><td>0.16</td><td>M6.0Ve</td><td>0.0014176393805220048</td></tr>\n",
              "<tr><td>Luyten 726-8A</td><td>8.73</td><td>12.6</td><td>15.0</td><td>2650</td><td>0.12</td><td>M5.5Ve</td><td>0.0006397932680773995</td></tr>\n",
              "</table></div>"
            ],
            "text/plain": [
              "<QTable length=5>\n",
              "      Star       Distance App_Mag ... Spectral_Type       Luminosity     \n",
              "                   lyr      mag   ...                       solLum       \n",
              "     str16       float64  float64 ...      str6            float64       \n",
              "---------------- -------- ------- ... ------------- ---------------------\n",
              "Proxima Centauri     4.24   11.13 ...        M5.5Ve 0.0015121211520600123\n",
              "Alpha Centauri A     4.37   -0.01 ...           G2V    1.5070497682487838\n",
              "  Barnard's Star     5.96    9.54 ...        M4.0Ve 0.0028160130105810885\n",
              "        Wolf 359     7.86    13.5 ...        M6.0Ve 0.0014176393805220048\n",
              "   Luyten 726-8A     8.73    12.6 ...        M5.5Ve 0.0006397932680773995"
            ]
          },
          "execution_count": 14,
          "metadata": {},
          "output_type": "execute_result"
        }
      ],
      "source": [
        "stars_table"
      ]
    },
    {
      "cell_type": "markdown",
      "id": "64471bb3-7c73-4af1-8c78-208c89a3b0f9",
      "metadata": {
        "id": "64471bb3-7c73-4af1-8c78-208c89a3b0f9"
      },
      "source": [
        "### Calculating Stellar Luminosity and Adding It to the Table\n",
        "\n",
        "To calculate the luminosity of stars, we use the **Stefan–Boltzmann law**:\n",
        "\n",
        "\\\\[\n",
        "L = 4\\pi R^2 \\sigma T^4\n",
        "\\\\]\n",
        "\n",
        "\n",
        "Using `astropy.constants` and `astropy.units`, we ensure that all values carry correct physical units. This not only simplifies calculations but also eliminates unit mismatch errors.\n",
        "\n",
        "After computing the luminosity, we convert the result to solar luminosities and store it in a new column named `Luminosity` in our `stars_table`.\n",
        "\n",
        "This process illustrates how real astrophysical equations can be applied directly in Python using unit-aware data structures.\n"
      ]
    },
    {
      "cell_type": "markdown",
      "id": "5b388514-2832-468c-8dd2-0417ee16e96b",
      "metadata": {
        "id": "5b388514-2832-468c-8dd2-0417ee16e96b"
      },
      "source": [
        "## Summary of `astropy.table`\n",
        "\n",
        "In this module, we explored basic capabilities of the `astropy.table` subpackage a flexible, unit-aware system for working with tabular astronomical data. We created `QTable` objects using NumPy arrays, computed derived quantities like stellar luminosity, and modified table structures using column operations.\n",
        "\n",
        "Having established this foundation, you are now ready to work with tabular data in realistic scientific workflows, including the handling of **FITS tables** and the use of `astroquery` for retrieving remote datasets.\n",
        "\n",
        "---\n",
        "\n",
        "### Recommended Topics for Further Study\n",
        "\n",
        "#### Modifying a Table\n",
        "\n",
        "Learn how to:\n",
        "\n",
        "- Add or remove rows\n",
        "- Rename or reorder columns\n",
        "- Update values within a table\n",
        "\n",
        "[Documentation: Modifying Tables](https://docs.astropy.org/en/stable/table/operations.html#modifying-a-table)\n",
        "\n",
        "---\n",
        "\n",
        "#### Table Operations\n",
        "\n",
        "Understand how to:\n",
        "\n",
        "- Sort and filter rows\n",
        "- Group data based on column values\n",
        "- Stack and join multiple tables\n",
        "\n",
        "[Documentation: Table Operations](https://docs.astropy.org/en/stable/table/operations.html)\n",
        "\n",
        "---\n",
        "\n",
        "#### Masking and Missing Values\n",
        "\n",
        "Astronomical data frequently include missing or uncertain values. `astropy.table` supports:\n",
        "\n",
        "- Masked values (e.g., NaNs or flagged entries)\n",
        "- Propagation of missing data through operations\n",
        "- Handling and filtering of incomplete datasets\n",
        "\n",
        "[Documentation: Masking and Missing Values](https://docs.astropy.org/en/stable/table/mask.html)\n",
        "\n",
        "---\n",
        "\n",
        "### Interoperability with `pandas`\n",
        "\n",
        "`astropy.table` supports seamless conversion to and from `pandas.DataFrame`, enabling integration with the broader Python data science ecosystem.\n",
        "\n",
        "Learn more:  \n",
        "[Using Tables with pandas](https://docs.astropy.org/en/stable/table/pandas.html)\n",
        "\n",
        "---\n",
        "\n",
        "### Saving and Loading Tables\n",
        "\n",
        "You can easily save `Table` or `QTable` objects to a wide variety of file formats using the `write()` method and read them back using `read()`.\n",
        "\n",
        "Supported formats include:\n",
        "- ASCII (e.g., CSV, TSV, fixed-width)\n",
        "- ECSV (Enhanced CSV with metadata and units)\n",
        "- FITS (Flexible Image Transport System)\n",
        "- HDF5\n",
        "- VOTable\n",
        "- LaTeX and HTML for presentation\n",
        "\n",
        "Read more:\n",
        "- [Reading Tables](https://docs.astropy.org/en/stable/io/ascii/read.html)\n",
        "- [Writing Tables](https://docs.astropy.org/en/stable/io/ascii/write.html)\n",
        "\n",
        "---\n",
        "\n",
        "### Next Steps\n",
        "\n",
        "Now that you are familiar with tables, coordinates, and units, you can begin exploring:\n",
        "\n",
        "- Working with **FITS** files and binary tables\n",
        "- Querying astronomical databases using `astroquery`\n",
        "- Preparing tables for modeling, plotting, or catalog cross-matching\n"
      ]
    },
    {
      "cell_type": "code",
      "execution_count": null,
      "id": "8ee78ba7-d4c5-4c43-a2dd-9d9c51368340",
      "metadata": {
        "id": "8ee78ba7-d4c5-4c43-a2dd-9d9c51368340"
      },
      "outputs": [],
      "source": []
    }
  ],
  "metadata": {
    "kernelspec": {
      "display_name": "Python 3 (ipykernel)",
      "language": "python",
      "name": "python3"
    },
    "language_info": {
      "codemirror_mode": {
        "name": "ipython",
        "version": 3
      },
      "file_extension": ".py",
      "mimetype": "text/x-python",
      "name": "python",
      "nbconvert_exporter": "python",
      "pygments_lexer": "ipython3",
      "version": "3.10.11"
    },
    "colab": {
      "provenance": []
    }
  },
  "nbformat": 4,
  "nbformat_minor": 5
}
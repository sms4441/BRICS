{
  "cells": [
    {
      "cell_type": "markdown",
      "id": "21113baf-7cc6-46be-b5e0-04d4c3da5f8b",
      "metadata": {
        "id": "21113baf-7cc6-46be-b5e0-04d4c3da5f8b"
      },
      "source": [
        "# Time-series Analysis for Astronomical Data\n",
        "\n",
        "[![Open In Colab](https://colab.research.google.com/assets/colab-badge.svg)](https://colab.research.google.com/github/Danselem/brics_astro/blob/main/Week5/03_time_series.ipynb)\n",
        "\n",
        "## Overview\n",
        "\n",
        "This lecture introduces the basics of time-series data, understand its importance, and learn how to analyze periodic signals using periodogram techniques. We will use Python libraries such as 'lightkurve' and 'astropy' to work with real astronomical data.\n",
        "\n",
        "## Learning Objectives\n",
        "\n",
        "By the end of this lecture, you should be able to:\n",
        "- Understand Time-Series Data – Learn what time-series data is and why it is important in astronomy.\n",
        "- Identify Periodic Signals – Recognize repeating patterns in astronomical light curves.\n",
        "- Use Periodograms – Apply techniques like the Lomb-Scargle periodogram to detect periodicity.\n",
        "- Analyze Real Astronomical Data – Work with tools like Lightkurve and Astropy for Kepler/TESS data.\n"
      ]
    },
    {
      "cell_type": "markdown",
      "id": "876ea076-5131-43c5-b126-0c69b8aef8be",
      "metadata": {
        "id": "876ea076-5131-43c5-b126-0c69b8aef8be"
      },
      "source": [
        "# 1. What is Time-Series Data?\n",
        "Time-series data is a sequence of data points collected or recorded at regular or known time intervals. Each data point represents a measurement taken at a specific moment in time. In astronomy, time-series data is extremely important. Astronomers often use it to study how the brightness, position, or other properties of celestial objects (like stars, planets, and galaxies) change over time.\n",
        "\n",
        "The most common type of time-series data in astronomy is related to brightness, which is also called luminosity or magnitude.\n",
        "For example:\n",
        "\n",
        "- Variable Stars<br>\n",
        "    Some stars naturally get brighter and dimmer over time. By recording their brightness every night, scientists get time-series data that shows a repeating pattern. This helps identify the type of variable star and how it works.\n",
        "\n",
        "- Exoplanets<br>\n",
        "    When a planet moves in front of its star (as seen from Earth), it blocks a small part of the star’s light. This creates a tiny dip in the light curve. By analyzing this time-series data, astronomers can discover new exoplanets.\n",
        "\n",
        "- Pulsars<br>\n",
        "    Pulsars are spinning neutron stars that emit regular pulses of radiation, like a cosmic lighthouse. These pulses arrive at very regular intervals, so astronomers use time-series data to track their timing and speed.\n",
        "\n",
        "- Supernovae<br>\n",
        "    When a star explodes, it suddenly becomes very bright, then slowly fades. By recording its brightness daily, astronomers create a light curve that shows the explosion's timeline.\n",
        "Astronomers record these brightness levels again and again over time, creating a time-series dataset.\n",
        "\n",
        "\n",
        "In this lecture, we will exploit TESS data with 'lightkurve' to identify periodic signals in a variable star.\n",
        "\n",
        "**Note:**\n",
        "If you are running this jupyter notebook from Colab, then run the next cell by pressing `SHIFT+ENTER` to install the required packages for this notebook. Otherwise, skip the next cell."
      ]
    },
    {
      "cell_type": "code",
      "execution_count": null,
      "id": "0eb30a72-5e1a-476c-be6d-c3d185a29f38",
      "metadata": {
        "id": "0eb30a72-5e1a-476c-be6d-c3d185a29f38",
        "outputId": "3304e001-863c-49e7-cc1d-f11fa0cf0818",
        "colab": {
          "base_uri": "https://localhost:8080/"
        }
      },
      "outputs": [
        {
          "output_type": "stream",
          "name": "stdout",
          "text": [
            "  Preparing metadata (setup.py) ... \u001b[?25l\u001b[?25hdone\n",
            "\u001b[2K     \u001b[90m━━━━━━━━━━━━━━━━━━━━━━━━━━━━━━━━━━━━━━━━\u001b[0m \u001b[32m41.2/41.2 kB\u001b[0m \u001b[31m1.1 MB/s\u001b[0m eta \u001b[36m0:00:00\u001b[0m\n",
            "\u001b[?25h"
          ]
        }
      ],
      "source": [
        "!pip install -q astroquery lightkurve"
      ]
    },
    {
      "cell_type": "code",
      "execution_count": null,
      "id": "99dc2b78-a527-45c6-b247-da7f16c91242",
      "metadata": {
        "id": "99dc2b78-a527-45c6-b247-da7f16c91242"
      },
      "outputs": [],
      "source": [
        "import numpy as np\n",
        "import matplotlib.pyplot as plt\n",
        "from astropy.timeseries import LombScargle\n",
        "import lightkurve as lk\n",
        "import os"
      ]
    },
    {
      "cell_type": "markdown",
      "id": "0ba2e0dc-49d4-4878-9f58-c8302cc433b0",
      "metadata": {
        "id": "0ba2e0dc-49d4-4878-9f58-c8302cc433b0"
      },
      "source": [
        "# 2. What Data Products are Available?\n",
        "TESS data products are stored on the Mikulski Archive for Space Telescopes (MAST) in two main forms:\n",
        "\n",
        "1. Light curve products: tables containing the measured flux at each observation time.\n",
        "2. Target pixel file products: stacks of images with the pixel-level observation at each observation time.\n",
        "\n",
        "Lightkurve allows you to query and download each of these data products."
      ]
    },
    {
      "cell_type": "markdown",
      "id": "b34b8837-68fc-4ad7-b86b-ef465f1913f1",
      "metadata": {
        "id": "b34b8837-68fc-4ad7-b86b-ef465f1913f1"
      },
      "source": [
        "# 3. Searching for Light Curves\n"
      ]
    },
    {
      "cell_type": "markdown",
      "id": "2073e091-2d0a-4a52-af8f-500dda7f8c41",
      "metadata": {
        "id": "2073e091-2d0a-4a52-af8f-500dda7f8c41"
      },
      "source": [
        "Lightkurve uses Astroquery to search for data products. Astroquery allows searches based on a target’s coordinates, catalog ID number, or name.\n",
        "\n",
        "This is passed into the search function using the target keyword, and all valid inputs for identifying a target include:\n",
        "- The TESS Input Catalog (TIC) identifier as an integer, for example, “464570167”\n",
        "- A coordinate string in decimal format, for example, “285.67942179 +50.24130576.”\n",
        "- A coordinate string in sexagesimal format, for example, “19:02:43.1 +50:14:28.7.”\n",
        "\n",
        "You can also specify which mission you would like to retrieve data from using the mission keyword, which takes “Kepler,” “K2,” or “TESS.” By default, all available missions will be returned.\n",
        "\n",
        "We will start with the case of searching for a TESS target using its TESS Input Catalog (TIC) ID number. Below, we search for TIC 346783960, commonly known as Beta Persei, which is an eclipsing binary, using the search_lightcurve function."
      ]
    },
    {
      "cell_type": "code",
      "execution_count": null,
      "id": "c9bb330a-b558-4a09-97ff-d2edfd25fcad",
      "metadata": {
        "id": "c9bb330a-b558-4a09-97ff-d2edfd25fcad",
        "outputId": "112e2847-97bc-44d6-b52d-f46a241ad85c"
      },
      "outputs": [
        {
          "data": {
            "text/html": [
              "SearchResult containing 4 data products.\n",
              "\n",
              "<table id=\"table135927463229664\">\n",
              "<thead><tr><th>#</th><th>mission</th><th>year</th><th>author</th><th>exptime</th><th>target_name</th><th>distance</th></tr></thead>\n",
              "<thead><tr><th></th><th></th><th></th><th></th><th>s</th><th></th><th>arcsec</th></tr></thead>\n",
              "<tr><td>0</td><td>TESS Sector 18</td><td>2019</td><td><a href='https://heasarc.gsfc.nasa.gov/docs/tess/pipeline.html'>SPOC</a></td><td>120</td><td>346783960</td><td>0.0</td></tr>\n",
              "<tr><td>1</td><td>TESS Sector 58</td><td>2022</td><td><a href='https://heasarc.gsfc.nasa.gov/docs/tess/pipeline.html'>SPOC</a></td><td>120</td><td>346783960</td><td>0.0</td></tr>\n",
              "<tr><td>2</td><td>TESS Sector 85</td><td>2024</td><td><a href='https://heasarc.gsfc.nasa.gov/docs/tess/pipeline.html'>SPOC</a></td><td>20</td><td>346783960</td><td>0.0</td></tr>\n",
              "<tr><td>3</td><td>TESS Sector 85</td><td>2024</td><td><a href='https://heasarc.gsfc.nasa.gov/docs/tess/pipeline.html'>SPOC</a></td><td>120</td><td>346783960</td><td>0.0</td></tr>\n",
              "</table>"
            ],
            "text/plain": [
              "SearchResult containing 4 data products.\n",
              "\n",
              " #     mission     year author exptime target_name distance\n",
              "                                  s                 arcsec \n",
              "--- -------------- ---- ------ ------- ----------- --------\n",
              "  0 TESS Sector 18 2019   SPOC     120   346783960      0.0\n",
              "  1 TESS Sector 58 2022   SPOC     120   346783960      0.0\n",
              "  2 TESS Sector 85 2024   SPOC      20   346783960      0.0\n",
              "  3 TESS Sector 85 2024   SPOC     120   346783960      0.0"
            ]
          },
          "execution_count": 16,
          "metadata": {},
          "output_type": "execute_result"
        }
      ],
      "source": [
        "search_result = lk.search_lightcurve(target='Beta Persei', mission='TESS', author='SPOC')\n",
        "search_result"
      ]
    },
    {
      "cell_type": "markdown",
      "id": "42183e59-40a9-42fe-85e3-6cfa4b510105",
      "metadata": {
        "id": "42183e59-40a9-42fe-85e3-6cfa4b510105"
      },
      "source": [
        "'**search_lightcurve**' returns a SearchResult table, which contains information about the data products available to download. This search result tells us that TIC 346783960 was observed in TESS Sectors 18, 58, and 85. The **author** keyword helps refine the results by selecting data from a specific pipeline (e.g., SPOC), which provides 20 s and 120 s cadence data.\n",
        "\n",
        "You can also search for available data using your target's coordinates instead of its name."
      ]
    },
    {
      "cell_type": "code",
      "execution_count": null,
      "id": "5d9fbbfa-a145-4a6f-99bb-b9a3fd5b5b07",
      "metadata": {
        "id": "5d9fbbfa-a145-4a6f-99bb-b9a3fd5b5b07",
        "outputId": "2a26f926-1192-4b23-e31b-3fb5282d276b"
      },
      "outputs": [
        {
          "data": {
            "text/html": [
              "SearchResult containing 4 data products.\n",
              "\n",
              "<table id=\"table135927463313808\">\n",
              "<thead><tr><th>#</th><th>mission</th><th>year</th><th>author</th><th>exptime</th><th>target_name</th><th>distance</th></tr></thead>\n",
              "<thead><tr><th></th><th></th><th></th><th></th><th>s</th><th></th><th>arcsec</th></tr></thead>\n",
              "<tr><td>0</td><td>TESS Sector 18</td><td>2019</td><td><a href='https://heasarc.gsfc.nasa.gov/docs/tess/pipeline.html'>SPOC</a></td><td>120</td><td>346783960</td><td>0.0</td></tr>\n",
              "<tr><td>1</td><td>TESS Sector 58</td><td>2022</td><td><a href='https://heasarc.gsfc.nasa.gov/docs/tess/pipeline.html'>SPOC</a></td><td>120</td><td>346783960</td><td>0.0</td></tr>\n",
              "<tr><td>2</td><td>TESS Sector 85</td><td>2024</td><td><a href='https://heasarc.gsfc.nasa.gov/docs/tess/pipeline.html'>SPOC</a></td><td>20</td><td>346783960</td><td>0.0</td></tr>\n",
              "<tr><td>3</td><td>TESS Sector 85</td><td>2024</td><td><a href='https://heasarc.gsfc.nasa.gov/docs/tess/pipeline.html'>SPOC</a></td><td>120</td><td>346783960</td><td>0.0</td></tr>\n",
              "</table>"
            ],
            "text/plain": [
              "SearchResult containing 4 data products.\n",
              "\n",
              " #     mission     year author exptime target_name distance\n",
              "                                  s                 arcsec \n",
              "--- -------------- ---- ------ ------- ----------- --------\n",
              "  0 TESS Sector 18 2019   SPOC     120   346783960      0.0\n",
              "  1 TESS Sector 58 2022   SPOC     120   346783960      0.0\n",
              "  2 TESS Sector 85 2024   SPOC      20   346783960      0.0\n",
              "  3 TESS Sector 85 2024   SPOC     120   346783960      0.0"
            ]
          },
          "execution_count": 17,
          "metadata": {},
          "output_type": "execute_result"
        }
      ],
      "source": [
        "search_result = lk.search_lightcurve(target='03 08 10.13 +40 57 20.33', radius=0.0, author='SPOC',mission='TESS')\n",
        "search_result"
      ]
    },
    {
      "cell_type": "markdown",
      "id": "7abbf63d-61d9-4635-80a7-fff4dd3292e6",
      "metadata": {
        "id": "7abbf63d-61d9-4635-80a7-fff4dd3292e6"
      },
      "source": [
        "You can select an individual entry in this search result by indexing the search result."
      ]
    },
    {
      "cell_type": "code",
      "execution_count": null,
      "id": "185e5d99-9271-42a6-b1cb-050374518de2",
      "metadata": {
        "id": "185e5d99-9271-42a6-b1cb-050374518de2",
        "outputId": "883e0317-d9c3-43ef-ed9b-f9a0be0d7374"
      },
      "outputs": [
        {
          "data": {
            "text/html": [
              "SearchResult containing 1 data products.\n",
              "\n",
              "<table id=\"table135927450432896\">\n",
              "<thead><tr><th>#</th><th>mission</th><th>year</th><th>author</th><th>exptime</th><th>target_name</th><th>distance</th></tr></thead>\n",
              "<thead><tr><th></th><th></th><th></th><th></th><th>s</th><th></th><th>arcsec</th></tr></thead>\n",
              "<tr><td>0</td><td>TESS Sector 18</td><td>2019</td><td><a href='https://heasarc.gsfc.nasa.gov/docs/tess/pipeline.html'>SPOC</a></td><td>120</td><td>346783960</td><td>0.0</td></tr>\n",
              "</table>"
            ],
            "text/plain": [
              "SearchResult containing 1 data products.\n",
              "\n",
              " #     mission     year author exptime target_name distance\n",
              "                                  s                 arcsec \n",
              "--- -------------- ---- ------ ------- ----------- --------\n",
              "  0 TESS Sector 18 2019   SPOC     120   346783960      0.0"
            ]
          },
          "execution_count": 18,
          "metadata": {},
          "output_type": "execute_result"
        }
      ],
      "source": [
        "search_result[0]"
      ]
    },
    {
      "cell_type": "markdown",
      "id": "3c4d8d6c-9778-4ac3-bcde-f9d3e92297d3",
      "metadata": {
        "id": "3c4d8d6c-9778-4ac3-bcde-f9d3e92297d3"
      },
      "source": [
        "You can also narrow down the list of observations when you make the search using the mission-specific keywords, such as **sector**.\n",
        "\n",
        "Let’s perform the search for TIC 346783960 again, this time specifying that we only want data from TESS Sector 18."
      ]
    },
    {
      "cell_type": "code",
      "execution_count": null,
      "id": "48231e37-c743-45fa-baec-cc9b981b52aa",
      "metadata": {
        "id": "48231e37-c743-45fa-baec-cc9b981b52aa",
        "outputId": "43699b39-8699-471e-94b3-357c8e53c8a0"
      },
      "outputs": [
        {
          "data": {
            "text/html": [
              "SearchResult containing 1 data products.\n",
              "\n",
              "<table id=\"table135927463314816\">\n",
              "<thead><tr><th>#</th><th>mission</th><th>year</th><th>author</th><th>exptime</th><th>target_name</th><th>distance</th></tr></thead>\n",
              "<thead><tr><th></th><th></th><th></th><th></th><th>s</th><th></th><th>arcsec</th></tr></thead>\n",
              "<tr><td>0</td><td>TESS Sector 18</td><td>2019</td><td><a href='https://heasarc.gsfc.nasa.gov/docs/tess/pipeline.html'>SPOC</a></td><td>120</td><td>346783960</td><td>0.0</td></tr>\n",
              "</table>"
            ],
            "text/plain": [
              "SearchResult containing 1 data products.\n",
              "\n",
              " #     mission     year author exptime target_name distance\n",
              "                                  s                 arcsec \n",
              "--- -------------- ---- ------ ------- ----------- --------\n",
              "  0 TESS Sector 18 2019   SPOC     120   346783960      0.0"
            ]
          },
          "execution_count": 19,
          "metadata": {},
          "output_type": "execute_result"
        }
      ],
      "source": [
        "search_result_18 = lk.search_lightcurve(target='Beta Persei', mission='TESS', author='SPOC', sector='18')\n",
        "search_result_18"
      ]
    },
    {
      "cell_type": "markdown",
      "id": "cae40487-9754-4605-b68b-492efc464f61",
      "metadata": {
        "id": "cae40487-9754-4605-b68b-492efc464f61"
      },
      "source": [
        "You can change the value of the 'sector' keyword to select different sectors."
      ]
    },
    {
      "cell_type": "markdown",
      "id": "4a3bfc15-1d6d-489c-8bfa-cd5a33dd2cd8",
      "metadata": {
        "id": "4a3bfc15-1d6d-489c-8bfa-cd5a33dd2cd8"
      },
      "source": [
        "## 3.1 Downloading a single light curve"
      ]
    },
    {
      "cell_type": "markdown",
      "id": "00f7f9e6-bcc2-41ae-96ad-1e4157ccdc52",
      "metadata": {
        "id": "00f7f9e6-bcc2-41ae-96ad-1e4157ccdc52"
      },
      "source": [
        "A light curve can be downloaded by calling .download()."
      ]
    },
    {
      "cell_type": "code",
      "execution_count": null,
      "id": "553a5408-c966-4046-81a0-d0277787bfd0",
      "metadata": {
        "id": "553a5408-c966-4046-81a0-d0277787bfd0",
        "outputId": "ec3c736b-5ac4-4869-b758-15016428c9eb"
      },
      "outputs": [
        {
          "data": {
            "text/html": [
              "<div><i>TessLightCurve length=16447 LABEL=&quot;TIC 346783960&quot; SECTOR=18 AUTHOR=SPOC FLUX_ORIGIN=pdcsap_flux</i>\n",
              "<table id=\"table135927463906464\" class=\"table-striped table-bordered table-condensed\">\n",
              "<thead><tr><th>time</th><th>flux</th><th>flux_err</th><th>timecorr</th><th>cadenceno</th><th>centroid_col</th><th>centroid_row</th><th>sap_flux</th><th>sap_flux_err</th><th>sap_bkg</th><th>sap_bkg_err</th><th>pdcsap_flux</th><th>pdcsap_flux_err</th><th>quality</th><th>psf_centr1</th><th>psf_centr1_err</th><th>psf_centr2</th><th>psf_centr2_err</th><th>mom_centr1</th><th>mom_centr1_err</th><th>mom_centr2</th><th>mom_centr2_err</th><th>pos_corr1</th><th>pos_corr2</th></tr></thead>\n",
              "<thead><tr><th></th><th>electron / s</th><th>electron / s</th><th>d</th><th></th><th>pix</th><th>pix</th><th>electron / s</th><th>electron / s</th><th>electron / s</th><th>electron / s</th><th>electron / s</th><th>electron / s</th><th></th><th>pix</th><th>pix</th><th>pix</th><th>pix</th><th>pix</th><th>pix</th><th>pix</th><th>pix</th><th>pix</th><th>pix</th></tr></thead>\n",
              "<thead><tr><th>Time</th><th>float32</th><th>float32</th><th>float32</th><th>int32</th><th>float64</th><th>float64</th><th>float32</th><th>float32</th><th>float32</th><th>float32</th><th>float32</th><th>float32</th><th>int32</th><th>float64</th><th>float32</th><th>float64</th><th>float32</th><th>float64</th><th>float32</th><th>float64</th><th>float32</th><th>float32</th><th>float32</th></tr></thead>\n",
              "<tr><td>1790.661752048892</td><td>1.5847028e+07</td><td>4.2134698e+02</td><td>5.1192422e-03</td><td>405505</td><td>1523.38778</td><td>1337.94597</td><td>1.5323156e+07</td><td>4.1610300e+02</td><td>3.1107447e+04</td><td>4.0073738e+01</td><td>1.5847028e+07</td><td>4.2134698e+02</td><td>0</td><td>———</td><td>———</td><td>———</td><td>———</td><td>1523.38778</td><td>3.2608514e-05</td><td>1337.94597</td><td>2.5730251e-04</td><td>-3.3331234e-02</td><td>-9.5643811e-02</td></tr>\n",
              "<tr><td>1790.6631409781724</td><td>1.5852229e+07</td><td>4.2122256e+02</td><td>5.1192832e-03</td><td>405506</td><td>1523.39157</td><td>1337.94116</td><td>1.5314245e+07</td><td>4.1598016e+02</td><td>3.1110430e+04</td><td>4.0042103e+01</td><td>1.5852229e+07</td><td>4.2122256e+02</td><td>0</td><td>———</td><td>———</td><td>———</td><td>———</td><td>1523.39157</td><td>3.2622440e-05</td><td>1337.94116</td><td>2.5722545e-04</td><td>-2.6948692e-02</td><td>-1.1051010e-01</td></tr>\n",
              "<tr><td>1790.6645299069883</td><td>1.5860948e+07</td><td>4.2125601e+02</td><td>5.1193237e-03</td><td>405507</td><td>1523.39032</td><td>1337.94494</td><td>1.5315564e+07</td><td>4.1601321e+02</td><td>3.1128352e+04</td><td>4.0182297e+01</td><td>1.5860948e+07</td><td>4.2125601e+02</td><td>0</td><td>———</td><td>———</td><td>———</td><td>———</td><td>1523.39032</td><td>3.2619231e-05</td><td>1337.94494</td><td>2.5725787e-04</td><td>-2.8188746e-02</td><td>-1.0195550e-01</td></tr>\n",
              "<tr><td>1790.6659188358046</td><td>1.5884782e+07</td><td>4.2128589e+02</td><td>5.1193642e-03</td><td>405508</td><td>1523.38925</td><td>1337.94905</td><td>1.5316892e+07</td><td>4.1604272e+02</td><td>3.1114518e+04</td><td>4.0265469e+01</td><td>1.5884782e+07</td><td>4.2128589e+02</td><td>0</td><td>———</td><td>———</td><td>———</td><td>———</td><td>1523.38925</td><td>3.2611901e-05</td><td>1337.94905</td><td>2.5730362e-04</td><td>-2.9503489e-02</td><td>-9.5719874e-02</td></tr>\n",
              "<tr><td>1790.6673077646203</td><td>1.5884525e+07</td><td>4.2123611e+02</td><td>5.1194048e-03</td><td>405509</td><td>1523.39099</td><td>1337.93912</td><td>1.5313968e+07</td><td>4.1599356e+02</td><td>3.1148590e+04</td><td>4.0174389e+01</td><td>1.5884525e+07</td><td>4.2123611e+02</td><td>0</td><td>———</td><td>———</td><td>———</td><td>———</td><td>1523.39099</td><td>3.2618878e-05</td><td>1337.93912</td><td>2.5729704e-04</td><td>-2.7450016e-02</td><td>-1.1521547e-01</td></tr>\n",
              "<tr><td>1790.6686966934355</td><td>1.5886712e+07</td><td>4.2126877e+02</td><td>5.1194453e-03</td><td>405510</td><td>1523.38905</td><td>1337.94550</td><td>1.5316940e+07</td><td>4.1602579e+02</td><td>3.1179645e+04</td><td>4.0119217e+01</td><td>1.5886712e+07</td><td>4.2126877e+02</td><td>0</td><td>———</td><td>———</td><td>———</td><td>———</td><td>1523.38905</td><td>3.2616357e-05</td><td>1337.94550</td><td>2.5728912e-04</td><td>-3.1409565e-02</td><td>-1.0103273e-01</td></tr>\n",
              "<tr><td>1790.6700856222503</td><td>1.5897793e+07</td><td>4.2128445e+02</td><td>5.1194858e-03</td><td>405511</td><td>1523.38806</td><td>1337.94583</td><td>1.5318376e+07</td><td>4.1604126e+02</td><td>3.1215434e+04</td><td>4.0085716e+01</td><td>1.5897793e+07</td><td>4.2128445e+02</td><td>0</td><td>———</td><td>———</td><td>———</td><td>———</td><td>1523.38806</td><td>3.2612392e-05</td><td>1337.94583</td><td>2.5732539e-04</td><td>-3.2533020e-02</td><td>-1.0061166e-01</td></tr>\n",
              "<tr><td>1790.671474551066</td><td>1.5907906e+07</td><td>4.2123407e+02</td><td>5.1195263e-03</td><td>405512</td><td>1523.38995</td><td>1337.94495</td><td>1.5314547e+07</td><td>4.1599155e+02</td><td>3.1212945e+04</td><td>4.0080872e+01</td><td>1.5907906e+07</td><td>4.2123407e+02</td><td>0</td><td>———</td><td>———</td><td>———</td><td>———</td><td>1523.38995</td><td>3.2620163e-05</td><td>1337.94495</td><td>2.5725976e-04</td><td>-2.9720914e-02</td><td>-1.0519896e-01</td></tr>\n",
              "<tr><td>1790.672863479882</td><td>1.5916688e+07</td><td>4.2121109e+02</td><td>5.1195668e-03</td><td>405513</td><td>1523.39003</td><td>1337.94577</td><td>1.5313100e+07</td><td>4.1596884e+02</td><td>3.1128922e+04</td><td>4.0093796e+01</td><td>1.5916688e+07</td><td>4.2121109e+02</td><td>0</td><td>———</td><td>———</td><td>———</td><td>———</td><td>1523.39003</td><td>3.2619289e-05</td><td>1337.94577</td><td>2.5723470e-04</td><td>-2.9785568e-02</td><td>-1.0134164e-01</td></tr>\n",
              "<tr><td>...</td><td>...</td><td>...</td><td>...</td><td>...</td><td>...</td><td>...</td><td>...</td><td>...</td><td>...</td><td>...</td><td>...</td><td>...</td><td>...</td><td>...</td><td>...</td><td>...</td><td>...</td><td>...</td><td>...</td><td>...</td><td>...</td><td>...</td><td>...</td></tr>\n",
              "<tr><td>1815.0243521604523</td><td>———</td><td>———</td><td>5.2296296e-03</td><td>423046</td><td>———</td><td>———</td><td>———</td><td>———</td><td>———</td><td>———</td><td>———</td><td>———</td><td>10000</td><td>———</td><td>———</td><td>———</td><td>———</td><td>———</td><td>———</td><td>———</td><td>———</td><td>———</td><td>———</td></tr>\n",
              "<tr><td>1815.0257410301285</td><td>———</td><td>———</td><td>5.2296109e-03</td><td>423047</td><td>———</td><td>———</td><td>———</td><td>———</td><td>———</td><td>———</td><td>———</td><td>———</td><td>10000</td><td>———</td><td>———</td><td>———</td><td>———</td><td>———</td><td>———</td><td>———</td><td>———</td><td>———</td><td>———</td></tr>\n",
              "<tr><td>1815.0271298993396</td><td>———</td><td>———</td><td>5.2295919e-03</td><td>423048</td><td>———</td><td>———</td><td>———</td><td>———</td><td>———</td><td>———</td><td>———</td><td>———</td><td>10000</td><td>———</td><td>———</td><td>———</td><td>———</td><td>———</td><td>———</td><td>———</td><td>———</td><td>———</td><td>———</td></tr>\n",
              "<tr><td>1815.028518769017</td><td>———</td><td>———</td><td>5.2295732e-03</td><td>423049</td><td>———</td><td>———</td><td>———</td><td>———</td><td>———</td><td>———</td><td>———</td><td>———</td><td>10000</td><td>———</td><td>———</td><td>———</td><td>———</td><td>———</td><td>———</td><td>———</td><td>———</td><td>———</td><td>———</td></tr>\n",
              "<tr><td>1815.0299076386939</td><td>———</td><td>———</td><td>5.2295546e-03</td><td>423050</td><td>———</td><td>———</td><td>———</td><td>———</td><td>———</td><td>———</td><td>———</td><td>———</td><td>10000</td><td>———</td><td>———</td><td>———</td><td>———</td><td>———</td><td>———</td><td>———</td><td>———</td><td>———</td><td>———</td></tr>\n",
              "<tr><td>1815.031296507904</td><td>———</td><td>———</td><td>5.2295355e-03</td><td>423051</td><td>———</td><td>———</td><td>———</td><td>———</td><td>———</td><td>———</td><td>———</td><td>———</td><td>10000</td><td>———</td><td>———</td><td>———</td><td>———</td><td>———</td><td>———</td><td>———</td><td>———</td><td>———</td><td>———</td></tr>\n",
              "<tr><td>1815.0326853775807</td><td>———</td><td>———</td><td>5.2295169e-03</td><td>423052</td><td>———</td><td>———</td><td>———</td><td>———</td><td>———</td><td>———</td><td>———</td><td>———</td><td>10000</td><td>———</td><td>———</td><td>———</td><td>———</td><td>———</td><td>———</td><td>———</td><td>———</td><td>———</td><td>———</td></tr>\n",
              "<tr><td>1815.0340742472574</td><td>———</td><td>———</td><td>5.2294983e-03</td><td>423053</td><td>———</td><td>———</td><td>———</td><td>———</td><td>———</td><td>———</td><td>———</td><td>———</td><td>10000</td><td>———</td><td>———</td><td>———</td><td>———</td><td>———</td><td>———</td><td>———</td><td>———</td><td>———</td><td>———</td></tr>\n",
              "<tr><td>1815.0354631164685</td><td>———</td><td>———</td><td>5.2294792e-03</td><td>423054</td><td>———</td><td>———</td><td>———</td><td>———</td><td>———</td><td>———</td><td>———</td><td>———</td><td>10000</td><td>———</td><td>———</td><td>———</td><td>———</td><td>———</td><td>———</td><td>———</td><td>———</td><td>———</td><td>———</td></tr>\n",
              "</table></div>"
            ],
            "text/plain": [
              "<TessLightCurve length=16447 LABEL=\"TIC 346783960\" SECTOR=18 AUTHOR=SPOC FLUX_ORIGIN=pdcsap_flux>\n",
              "       time             flux      ...   pos_corr1      pos_corr2   \n",
              "                    electron / s  ...      pix            pix      \n",
              "       Time           float32     ...    float32        float32    \n",
              "------------------ -------------- ... -------------- --------------\n",
              " 1790.661752048892  1.5847028e+07 ... -3.3331234e-02 -9.5643811e-02\n",
              "1790.6631409781724  1.5852229e+07 ... -2.6948692e-02 -1.1051010e-01\n",
              "1790.6645299069883  1.5860948e+07 ... -2.8188746e-02 -1.0195550e-01\n",
              "1790.6659188358046  1.5884782e+07 ... -2.9503489e-02 -9.5719874e-02\n",
              "1790.6673077646203  1.5884525e+07 ... -2.7450016e-02 -1.1521547e-01\n",
              "1790.6686966934355  1.5886712e+07 ... -3.1409565e-02 -1.0103273e-01\n",
              "1790.6700856222503  1.5897793e+07 ... -3.2533020e-02 -1.0061166e-01\n",
              " 1790.671474551066  1.5907906e+07 ... -2.9720914e-02 -1.0519896e-01\n",
              " 1790.672863479882  1.5916688e+07 ... -2.9785568e-02 -1.0134164e-01\n",
              "               ...            ... ...            ...            ...\n",
              "1815.0243521604523            ——— ...            ———            ———\n",
              "1815.0257410301285            ——— ...            ———            ———\n",
              "1815.0271298993396            ——— ...            ———            ———\n",
              " 1815.028518769017            ——— ...            ———            ———\n",
              "1815.0299076386939            ——— ...            ———            ———\n",
              " 1815.031296507904            ——— ...            ———            ———\n",
              "1815.0326853775807            ——— ...            ———            ———\n",
              "1815.0340742472574            ——— ...            ———            ———\n",
              "1815.0354631164685            ——— ...            ———            ———"
            ]
          },
          "execution_count": 20,
          "metadata": {},
          "output_type": "execute_result"
        }
      ],
      "source": [
        "lc = search_result_18.download()\n",
        "lc"
      ]
    },
    {
      "cell_type": "markdown",
      "id": "ea4882c4-cd96-4ad0-8f65-78609275ec93",
      "metadata": {
        "id": "ea4882c4-cd96-4ad0-8f65-78609275ec93"
      },
      "source": [
        "This returns a single TessLightCurve object, which is shown above in the form of an astropy table.\n",
        "\n",
        "The 'lc' files contain the flux time series derived from the calibrated 2-minute and 20-second target pixels. These files contain several time series, including the simple aperture photometry, a detrended light curve, position vectors, and quality flags. The aperture photometry flux series is known as the SAP_FLUX, while the flux series that has the common instrumental systematics removed is known as the PDCSAP_FLUX. The PDCSAP_FLUX light curves also correct for the amount of flux captured by the photometric aperture and crowding from known nearby stars.\n",
        "\n",
        "You can read more about the TESS data products here: https://outerspace.stsci.edu/display/TESS/TESS+Archive+Manual\n",
        "\n",
        "We can examine and plot the light curve now."
      ]
    },
    {
      "cell_type": "code",
      "execution_count": null,
      "id": "06ee6891-8759-4463-8129-ee7cd1f228bc",
      "metadata": {
        "id": "06ee6891-8759-4463-8129-ee7cd1f228bc",
        "outputId": "216a50f2-9d97-4f3f-a721-7ba1632fb231"
      },
      "outputs": [
        {
          "data": {
            "image/png": "[encoded data removed]",
            "text/plain": [
              "<Figure size 640x480 with 1 Axes>"
            ]
          },
          "metadata": {},
          "output_type": "display_data"
        }
      ],
      "source": [
        "lc_clean = lc.remove_nans().remove_outliers()       #To remove nan values and outliers from the data\n",
        "plt.plot(lc_clean.time.value, lc_clean.pdcsap_flux.value)\n",
        "plt.xlabel(\"Time (BTJD)\")\n",
        "plt.ylabel(\"Flux\")\n",
        "plt.show()"
      ]
    },
    {
      "cell_type": "markdown",
      "id": "a62d4830-0b2a-41cf-b725-af0ab2ff3ca4",
      "metadata": {
        "id": "a62d4830-0b2a-41cf-b725-af0ab2ff3ca4"
      },
      "source": [
        "The period of Beta Persei is approximately 2.867 days (or 2 days, 20 hours, 49 minutes).\n",
        "\n",
        "This means that every 2.867 days, it undergoes a brightness dip as its eclipsing binary components pass in front of each other from our line of sight. It is one of the most famous eclipsing binaries, with a well-documented light curve showing periodic dimming due to stellar occultation."
      ]
    },
    {
      "cell_type": "code",
      "execution_count": null,
      "id": "f6addc1d-a2c3-4de8-98b7-9deacfe7bfb7",
      "metadata": {
        "id": "f6addc1d-a2c3-4de8-98b7-9deacfe7bfb7"
      },
      "outputs": [],
      "source": [
        "# Convert to pandas DataFrame\n",
        "df = lc_clean.to_pandas()\n",
        "df['time'] = lc_clean.time.value  # .value gets rid of units/astropy Quantity\n",
        "columns_to_save = ['time', 'sap_flux', 'sap_flux_err', 'pdcsap_flux', 'pdcsap_flux_err']\n",
        "df1 = df[columns_to_save]\n",
        "\n",
        "# Create directory if it doesn't exist\n",
        "output_dir = \"data\"\n",
        "os.makedirs(output_dir, exist_ok=True)\n",
        "\n",
        "# Save to file inside the directory\n",
        "output_path = os.path.join(output_dir, \"lc_sec18.txt\")\n",
        "df1.to_csv(output_path, sep='\\t', index=False)"
      ]
    },
    {
      "cell_type": "markdown",
      "id": "b9f8a6b0-e703-439d-90a8-b6fa7875fa99",
      "metadata": {
        "id": "b9f8a6b0-e703-439d-90a8-b6fa7875fa99"
      },
      "source": [
        "You can save any light curve file to your local machine in this manner."
      ]
    },
    {
      "cell_type": "markdown",
      "id": "cc54f1dc-3af1-4998-80df-db2bf0bbfb5e",
      "metadata": {
        "id": "cc54f1dc-3af1-4998-80df-db2bf0bbfb5e"
      },
      "source": [
        "# 4. Finding periodicity in the light curve"
      ]
    },
    {
      "cell_type": "markdown",
      "id": "d4a9f368-6788-4ff4-a95d-804480fbd3c5",
      "metadata": {
        "id": "d4a9f368-6788-4ff4-a95d-804480fbd3c5"
      },
      "source": [
        "When astronomers collect data over time, like how the brightness of a star changes, they often want to know if there’s a pattern or cycle in the data. For example, does the star become brighter and dimmer in a regular way, like a periodic cycle?<br>\n",
        "\n",
        "\n",
        "To find these patterns, astronomers use a method called a periodogram, which is a commonly used statistical tool that helps us \"listen\" for repeating rhythms in the data. One special kind of periodogram is called the Lomb-Scargle (LS) periodogram (after Lomb<a href=\"#ref1\">[1]</a>, and Scargle[\\[2\\]](#ref2)). This method is very popular in astronomy, especially when the data is not evenly spaced in time.<br>\n",
        "\n",
        "In an ideal world, astronomers would collect data at regular intervals — for example, every hour, or every night at the same time. But in the real world, especially in astronomy, this is practically impossible.<br>\n",
        "\n",
        "There are many reasons why data might not be evenly spaced:\n",
        "- The weather might be bad for telescope operation, for example, clouds, rain, high winds, etc.<br>\n",
        "- The object might only be visible during certain seasons.<br>\n",
        "- The telescope might be busy or offline.<br>\n",
        "- It might be too expensive or difficult to observe constantly.<br>\n",
        "\n",
        "As a result, the data might be collected at irregular times. This makes it difficult to find patterns using standard tools like the Fourier Transform, which works best with evenly spaced data. <br>\n",
        "\n",
        "### How Does the LS periodogram Work?\n",
        "Input: <br>\n",
        "- A dataset containing:<br>\n",
        "    - Times when data was collected (not equally spaced). <br>\n",
        "    - The values recorded at those times (e.g., brightness of a star). <br>\n",
        "\n",
        "Processing:<br>\n",
        "- It checks many different frequencies (like testing many possible rhythms) and calculates how well each one fits your data.\n",
        "\n",
        "Output:<br>\n",
        "- It gives us another dataset with:<br>\n",
        "    - Frequency (or period).<br>\n",
        "    - Power (strength of the signal).<br>\n",
        "\n",
        "\n",
        "- The taller the peak, the stronger the evidence for a repeating pattern at that frequency.<br>\n",
        "\n",
        "Below, we use the in-built Python package 'LombScargle' to calculate the periodogram for our data.\n"
      ]
    },
    {
      "cell_type": "code",
      "execution_count": null,
      "id": "e8ce1abf-57b7-4760-9d45-64320718c328",
      "metadata": {
        "id": "e8ce1abf-57b7-4760-9d45-64320718c328"
      },
      "outputs": [],
      "source": [
        "ls = LombScargle(lc_clean.time.value, lc_clean.pdcsap_flux.value, lc_clean.pdcsap_flux_err.value )\n",
        "freq, power = ls.autopower(nyquist_factor=1)"
      ]
    },
    {
      "cell_type": "markdown",
      "id": "0721c6f0-cfc2-43d8-8bf2-bcee2253bc8a",
      "metadata": {
        "id": "0721c6f0-cfc2-43d8-8bf2-bcee2253bc8a"
      },
      "source": [
        "The Nyquist factor 1 means we would like to explore the periodogram to be calculated up to the Nyquist frequency, which is the maximum frequency you can capture correctly, and it’s exactly half of the sampling rate (cadence between two data points)."
      ]
    },
    {
      "cell_type": "code",
      "execution_count": null,
      "id": "10d41d16-d04b-4c1b-9d06-342d323b6dd2",
      "metadata": {
        "id": "10d41d16-d04b-4c1b-9d06-342d323b6dd2",
        "outputId": "f48fadef-3f96-4d44-c864-184e6d1f8562"
      },
      "outputs": [
        {
          "data": {
            "image/png": "[encoded data removed]",
            "text/plain": [
              "<Figure size 640x480 with 1 Axes>"
            ]
          },
          "metadata": {},
          "output_type": "display_data"
        }
      ],
      "source": [
        "#period = 1 / freq\n",
        "plt.plot(freq, power,color='blue',lw=1.0)\n",
        "plt.xlim(0.1,1)\n",
        "plt.ylim()\n",
        "plt.xlabel(\"Frequency (day $^{-1}$)\")\n",
        "plt.ylabel(\"Power\")\n",
        "plt.title(\"Lomb-Scargle Periodogram\")\n",
        "plt.show()"
      ]
    },
    {
      "cell_type": "code",
      "execution_count": null,
      "id": "827049c9-c86c-400b-b356-1a2b73b1800a",
      "metadata": {
        "id": "827049c9-c86c-400b-b356-1a2b73b1800a",
        "outputId": "b8d411f4-1b76-410d-acc3-1e46d84b9e0b"
      },
      "outputs": [
        {
          "name": "stdout",
          "output_type": "stream",
          "text": [
            "Best frequency: 0.3511 day⁻¹, Best period: 2.8486 days\n"
          ]
        }
      ],
      "source": [
        "best_freq = freq[np.argmax(power)]\n",
        "best_period = 1/best_freq\n",
        "print(f\"Best frequency: {best_freq:.4f} day⁻¹, Best period: {best_period:.4f} days\")"
      ]
    },
    {
      "cell_type": "markdown",
      "id": "d971e6f9-30c7-4b14-97d0-445f012254bb",
      "metadata": {
        "id": "d971e6f9-30c7-4b14-97d0-445f012254bb"
      },
      "source": [
        "# 5. References"
      ]
    },
    {
      "cell_type": "markdown",
      "id": "bf326844-3618-4533-8a1e-72098f3115f6",
      "metadata": {
        "id": "bf326844-3618-4533-8a1e-72098f3115f6"
      },
      "source": [
        "1.  <a id=\"ref1\"></a>Lomb, N.R. Least-squares frequency analysis of unequally spaced data. Ap&SS 39 pp. 447-462 (1976)\n",
        "2.  <a id=\"ref2\"></a>Scargle, J. D. Studies in astronomical time series analysis. II - Statistical aspects of spectral analysis of unevenly spaced data. ApJ 1:263 pp. 835-853 (1982)"
      ]
    },
    {
      "cell_type": "markdown",
      "id": "fee521c6-5803-428f-b661-6e9654ad2f84",
      "metadata": {
        "id": "fee521c6-5803-428f-b661-6e9654ad2f84"
      },
      "source": [
        "# 6. Exercise"
      ]
    },
    {
      "cell_type": "markdown",
      "id": "479e43d4-4809-48c9-938f-1ed41b8764a4",
      "metadata": {
        "id": "479e43d4-4809-48c9-938f-1ed41b8764a4"
      },
      "source": [
        "1. Generate light curves of different sectors. Do you see any difference?\n",
        "2. Generate periodograms of different light curves. What period did you derive?\n",
        "3. What frequency is at ~0.70 day$^{-1}$?"
      ]
    },
    {
      "cell_type": "markdown",
      "id": "c9ac18ef-f6c8-455c-a9a1-98fd0a1d538a",
      "metadata": {
        "id": "c9ac18ef-f6c8-455c-a9a1-98fd0a1d538a"
      },
      "source": [
        "## Additional Resources\n",
        "\n",
        "Getting started with Time series with Astropy: <https://docs.astropy.org/en/stable/timeseries/index.html>\n",
        "\n",
        "Lomb Scargle periodograms: <https://docs.astropy.org/en/stable/timeseries/lombscargle.html>\n",
        "\n",
        "Lomb-Scargle Periodograms for Multiband Data: <https://docs.astropy.org/en/stable/timeseries/lombscarglemb.html>\n",
        "\n",
        "Lightkurve Tutorials: <https://lightkurve.github.io/lightkurve/tutorials/index.html>\n",
        "\n",
        "TESS and Kepler Data: <https://lightkurve.github.io/lightkurve/tutorials/1-getting-started/searching-for-data-products.html>\n",
        "\n",
        "Altaipony Flare Lightcurve Tutorial: <https://altaipony.readthedocs.io/en/latest/tutorials/index.html>\n",
        "\n",
        "Stingray: <https://docs.stingray.science/en/stable/index.html>\n",
        "\n",
        "High Energy time analysis with Gammapy: <https://docs.gammapy.org/dev/tutorials/analysis-time/light_curve_flare.html>"
      ]
    },
    {
      "cell_type": "code",
      "execution_count": null,
      "id": "c7b9dae1-ec61-4a5d-abeb-9b12bcd2247a",
      "metadata": {
        "id": "c7b9dae1-ec61-4a5d-abeb-9b12bcd2247a"
      },
      "outputs": [],
      "source": []
    }
  ],
  "metadata": {
    "kernelspec": {
      "display_name": "Python 3 (ipykernel)",
      "language": "python",
      "name": "python3"
    },
    "language_info": {
      "codemirror_mode": {
        "name": "ipython",
        "version": 3
      },
      "file_extension": ".py",
      "mimetype": "text/x-python",
      "name": "python",
      "nbconvert_exporter": "python",
      "pygments_lexer": "ipython3",
      "version": "3.10.11"
    },
    "colab": {
      "provenance": []
    }
  },
  "nbformat": 4,
  "nbformat_minor": 5
}
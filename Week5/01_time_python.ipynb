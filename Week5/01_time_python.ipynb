{
  "cells": [
    {
      "cell_type": "markdown",
      "id": "d02da399-c101-4d23-8143-013894b60740",
      "metadata": {
        "id": "d02da399-c101-4d23-8143-013894b60740"
      },
      "source": [
        "## The Concept of Time in Python\n",
        "[![Open In Colab](https://colab.research.google.com/assets/colab-badge.svg)](https://colab.research.google.com/github/Danselem/brics_astro/blob/main/Week5/01_time_python.ipynb)\n",
        "\n",
        "In addition to specialized astronomical timekeeping with libraries like Astropy, Python has built-in ways to handle everyday dates and times. This is useful for things like marking when a script was run, logging observation events in a simple way, or calculating durations in human-understandable units.\n",
        "\n",
        "Python's standard library includes modules like `datetime` and `time` for this purpose. The `datetime` module is particularly powerful for working with calendar dates and times together.\n",
        "\n",
        "While these built-in tools don't handle the complex astronomical timescales (like BJD) or relativistic corrections that `astropy.time` provides, they are excellent for general-purpose time tracking and calculation."
      ]
    },
    {
      "cell_type": "code",
      "execution_count": 1,
      "id": "2169becc-80c3-4ddd-9f60-f8047f9e8eaa",
      "metadata": {
        "id": "2169becc-80c3-4ddd-9f60-f8047f9e8eaa",
        "outputId": "899e37e7-f072-4070-8fc3-9f6218bf0e5d",
        "colab": {
          "base_uri": "https://localhost:8080/"
        }
      },
      "outputs": [
        {
          "output_type": "stream",
          "name": "stdout",
          "text": [
            "Current local time: 2025-06-11 16:04:14.706590\n",
            "Current year: 2025\n",
            "Current month: 6\n",
            "Current day: 11\n",
            "Current hour: 16\n",
            "Current minute: 4\n"
          ]
        }
      ],
      "source": [
        "# Example 1: Getting the Current Time in Python\n",
        "\n",
        "# The 'datetime' module is commonly used for dates and times\n",
        "import datetime\n",
        "\n",
        "# Get the current date and time\n",
        "current_moment = datetime.datetime.now()\n",
        "\n",
        "print(f\"Current local time: {current_moment}\")\n",
        "\n",
        "# You can access parts of the datetime object\n",
        "print(f\"Current year: {current_moment.year}\")\n",
        "print(f\"Current month: {current_moment.month}\")\n",
        "print(f\"Current day: {current_moment.day}\")\n",
        "print(f\"Current hour: {current_moment.hour}\")\n",
        "print(f\"Current minute: {current_moment.minute}\")"
      ]
    },
    {
      "cell_type": "code",
      "execution_count": null,
      "id": "9688cd36-cb41-4fb3-bc4d-51088c429f18",
      "metadata": {
        "id": "9688cd36-cb41-4fb3-bc4d-51088c429f18",
        "outputId": "555ab96c-c149-4e47-d09f-3535b422bc6c"
      },
      "outputs": [
        {
          "name": "stdout",
          "output_type": "stream",
          "text": [
            "Specific event time: 2015-09-14 09:50:45\n",
            "Just a date: 2023-11-15\n"
          ]
        }
      ],
      "source": [
        "# Example 2: Creating a Specific Date and Time\n",
        "\n",
        "# You can create a specific date and time object\n",
        "# For example, the date of the first detection of a gravitational wave event (GW150914)\n",
        "event_date = datetime.datetime(2015, 9, 14, 9, 50, 45) # Year, Month, Day, Hour, Minute, Second\n",
        "\n",
        "print(f\"Specific event time: {event_date}\")\n",
        "\n",
        "# You can also create just a date or just a time object\n",
        "just_a_date = datetime.date(2023, 11, 15)\n",
        "print(f\"Just a date: {just_a_date}\")"
      ]
    },
    {
      "cell_type": "code",
      "execution_count": null,
      "id": "90b5dfb8-09cc-4d0d-ad42-7e4b2e1fc346",
      "metadata": {
        "id": "90b5dfb8-09cc-4d0d-ad42-7e4b2e1fc346",
        "outputId": "3d7e945f-1a9e-4702-88a0-b0fd06eceef6"
      },
      "outputs": [
        {
          "name": "stdout",
          "output_type": "stream",
          "text": [
            "Time difference (duration): 0:30:00\n",
            "Duration in minutes: 30.0\n",
            "Is 2023-11-15 10:00:00 within the window? True\n"
          ]
        }
      ],
      "source": [
        "# Example 3: Calculating the Difference Between Two Times\n",
        "\n",
        "# You can subtract one datetime object from another to get a time difference\n",
        "time1 = datetime.datetime(2023, 11, 15, 10, 0, 0) # First observation\n",
        "time2 = datetime.datetime(2023, 11, 15, 10, 30, 0) # Second observation\n",
        "\n",
        "# Subtracting gives a timedelta object\n",
        "duration = time2 - time1\n",
        "\n",
        "print(f\"Time difference (duration): {duration}\")\n",
        "print(f\"Duration in minutes: {duration.total_seconds() / 60}\")\n",
        "\n",
        "# Check if a time falls within a range (less common for beginners, but useful)\n",
        "start_window = datetime.datetime(2023, 11, 15, 9, 0, 0)\n",
        "end_window = datetime.datetime(2023, 11, 15, 11, 0, 0)\n",
        "\n",
        "print(f\"Is {time1} within the window? {start_window <= time1 <= end_window}\")"
      ]
    },
    {
      "cell_type": "markdown",
      "id": "0ebbb12f-3bf9-4bd4-a6bd-74f8ae5ded41",
      "metadata": {
        "id": "0ebbb12f-3bf9-4bd4-a6bd-74f8ae5ded41"
      },
      "source": [
        "### Converting Columns to Datetime\n",
        "\n",
        "Often, when you load data from a file or create a DataFrame from other sources, columns containing dates or times are treated as simple text strings or numbers. To leverage Pandas' time-aware functionalities, you need to convert these columns into a special datetime format that Pandas recognizes, typically `datetime64[ns]`. The key function for this conversion is `pd.to_datetime()`."
      ]
    },
    {
      "cell_type": "code",
      "execution_count": null,
      "id": "9f79df4b-0324-4cc5-abb3-fce785c49805",
      "metadata": {
        "id": "9f79df4b-0324-4cc5-abb3-fce785c49805",
        "outputId": "dc4b3075-9746-4072-cffd-7079fa26d5f2"
      },
      "outputs": [
        {
          "name": "stdout",
          "output_type": "stream",
          "text": [
            "Original DataFrame:\n"
          ]
        },
        {
          "data": {
            "text/html": [
              "<div>\n",
              "<style scoped>\n",
              "    .dataframe tbody tr th:only-of-type {\n",
              "        vertical-align: middle;\n",
              "    }\n",
              "\n",
              "    .dataframe tbody tr th {\n",
              "        vertical-align: top;\n",
              "    }\n",
              "\n",
              "    .dataframe thead th {\n",
              "        text-align: right;\n",
              "    }\n",
              "</style>\n",
              "<table border=\"1\" class=\"dataframe\">\n",
              "  <thead>\n",
              "    <tr style=\"text-align: right;\">\n",
              "      <th></th>\n",
              "      <th>Event_ID</th>\n",
              "      <th>Timestamp_String</th>\n",
              "      <th>Value</th>\n",
              "    </tr>\n",
              "  </thead>\n",
              "  <tbody>\n",
              "    <tr>\n",
              "      <th>0</th>\n",
              "      <td>101</td>\n",
              "      <td>2023-01-05 09:00</td>\n",
              "      <td>15</td>\n",
              "    </tr>\n",
              "    <tr>\n",
              "      <th>1</th>\n",
              "      <td>102</td>\n",
              "      <td>2023-01-06 10:30</td>\n",
              "      <td>22</td>\n",
              "    </tr>\n",
              "    <tr>\n",
              "      <th>2</th>\n",
              "      <td>103</td>\n",
              "      <td>2023-01-07 11:00</td>\n",
              "      <td>18</td>\n",
              "    </tr>\n",
              "    <tr>\n",
              "      <th>3</th>\n",
              "      <td>104</td>\n",
              "      <td>2023-01-08 14:15</td>\n",
              "      <td>25</td>\n",
              "    </tr>\n",
              "  </tbody>\n",
              "</table>\n",
              "</div>"
            ],
            "text/plain": [
              "   Event_ID  Timestamp_String  Value\n",
              "0       101  2023-01-05 09:00     15\n",
              "1       102  2023-01-06 10:30     22\n",
              "2       103  2023-01-07 11:00     18\n",
              "3       104  2023-01-08 14:15     25"
            ]
          },
          "execution_count": 22,
          "metadata": {},
          "output_type": "execute_result"
        }
      ],
      "source": [
        "# Example 1: Converting a Column to Datetime\n",
        "\n",
        "import pandas as pd\n",
        "\n",
        "# Create a simple DataFrame with date/time information as strings\n",
        "event_data = {\n",
        "    'Event_ID': [101, 102, 103, 104],\n",
        "    'Timestamp_String': ['2023-01-05 09:00', '2023-01-06 10:30', '2023-01-07 11:00', '2023-01-08 14:15'],\n",
        "    'Value': [15, 22, 18, 25]\n",
        "}\n",
        "events_df = pd.DataFrame(event_data)\n",
        "\n",
        "print(\"Original DataFrame:\")\n",
        "events_df\n"
      ]
    },
    {
      "cell_type": "code",
      "execution_count": null,
      "id": "b8b9e415-eeae-462b-b4e9-23b5fd79d1b7",
      "metadata": {
        "id": "b8b9e415-eeae-462b-b4e9-23b5fd79d1b7",
        "outputId": "6ab64d80-0c02-42eb-b2ec-dedbd7250cd2"
      },
      "outputs": [
        {
          "name": "stdout",
          "output_type": "stream",
          "text": [
            "\n",
            "Data Types Before Conversion:\n"
          ]
        },
        {
          "data": {
            "text/plain": [
              "Event_ID             int64\n",
              "Timestamp_String    object\n",
              "Value                int64\n",
              "dtype: object"
            ]
          },
          "execution_count": 23,
          "metadata": {},
          "output_type": "execute_result"
        }
      ],
      "source": [
        "print(\"\\nData Types Before Conversion:\")\n",
        "events_df.dtypes # 'Timestamp_String' is likely 'object' (string)"
      ]
    },
    {
      "cell_type": "code",
      "execution_count": null,
      "id": "079892c2-9a57-43c4-8660-b800e99d252e",
      "metadata": {
        "id": "079892c2-9a57-43c4-8660-b800e99d252e",
        "outputId": "81484f57-b16c-4b65-d321-2c8737a38888"
      },
      "outputs": [
        {
          "name": "stdout",
          "output_type": "stream",
          "text": [
            "\n",
            "DataFrame After Conversion:\n"
          ]
        },
        {
          "data": {
            "text/html": [
              "<div>\n",
              "<style scoped>\n",
              "    .dataframe tbody tr th:only-of-type {\n",
              "        vertical-align: middle;\n",
              "    }\n",
              "\n",
              "    .dataframe tbody tr th {\n",
              "        vertical-align: top;\n",
              "    }\n",
              "\n",
              "    .dataframe thead th {\n",
              "        text-align: right;\n",
              "    }\n",
              "</style>\n",
              "<table border=\"1\" class=\"dataframe\">\n",
              "  <thead>\n",
              "    <tr style=\"text-align: right;\">\n",
              "      <th></th>\n",
              "      <th>Event_ID</th>\n",
              "      <th>Timestamp_String</th>\n",
              "      <th>Value</th>\n",
              "    </tr>\n",
              "  </thead>\n",
              "  <tbody>\n",
              "    <tr>\n",
              "      <th>0</th>\n",
              "      <td>101</td>\n",
              "      <td>2023-01-05 09:00:00</td>\n",
              "      <td>15</td>\n",
              "    </tr>\n",
              "    <tr>\n",
              "      <th>1</th>\n",
              "      <td>102</td>\n",
              "      <td>2023-01-06 10:30:00</td>\n",
              "      <td>22</td>\n",
              "    </tr>\n",
              "    <tr>\n",
              "      <th>2</th>\n",
              "      <td>103</td>\n",
              "      <td>2023-01-07 11:00:00</td>\n",
              "      <td>18</td>\n",
              "    </tr>\n",
              "    <tr>\n",
              "      <th>3</th>\n",
              "      <td>104</td>\n",
              "      <td>2023-01-08 14:15:00</td>\n",
              "      <td>25</td>\n",
              "    </tr>\n",
              "  </tbody>\n",
              "</table>\n",
              "</div>"
            ],
            "text/plain": [
              "   Event_ID    Timestamp_String  Value\n",
              "0       101 2023-01-05 09:00:00     15\n",
              "1       102 2023-01-06 10:30:00     22\n",
              "2       103 2023-01-07 11:00:00     18\n",
              "3       104 2023-01-08 14:15:00     25"
            ]
          },
          "execution_count": 24,
          "metadata": {},
          "output_type": "execute_result"
        }
      ],
      "source": [
        "# Use pd.to_datetime to convert the 'Timestamp_String' column\n",
        "events_df['Timestamp_String'] = pd.to_datetime(events_df['Timestamp_String'])\n",
        "\n",
        "print(\"\\nDataFrame After Conversion:\")\n",
        "events_df"
      ]
    },
    {
      "cell_type": "code",
      "execution_count": null,
      "id": "7c1be5bd-0305-4254-b6ff-55c212baeb04",
      "metadata": {
        "id": "7c1be5bd-0305-4254-b6ff-55c212baeb04",
        "outputId": "1d33bc1f-01a3-4b62-e85d-237535aa0095"
      },
      "outputs": [
        {
          "name": "stdout",
          "output_type": "stream",
          "text": [
            "\n",
            "Data Types After Conversion:\n"
          ]
        },
        {
          "data": {
            "text/plain": [
              "Event_ID                     int64\n",
              "Timestamp_String    datetime64[ns]\n",
              "Value                        int64\n",
              "dtype: object"
            ]
          },
          "execution_count": 25,
          "metadata": {},
          "output_type": "execute_result"
        }
      ],
      "source": [
        "print(\"\\nData Types After Conversion:\")\n",
        "events_df.dtypes # 'Timestamp_String' is now 'datetime64[ns]'"
      ]
    },
    {
      "cell_type": "markdown",
      "id": "2fdc2b98-ab7e-492a-91dc-27706518bf90",
      "metadata": {
        "id": "2fdc2b98-ab7e-492a-91dc-27706518bf90"
      },
      "source": [
        "### Filtering DataFrames by Time\n",
        "\n",
        "Once you have a column with the `datetime64[ns]` data type, you can easily filter your DataFrame to select rows based on specific dates, times, or time ranges. Pandas allows you to use comparison operators (`>=`, `<=`, `==`) and even slice using date strings directly on a datetime column (or index)."
      ]
    },
    {
      "cell_type": "code",
      "execution_count": null,
      "id": "d3106345-67ab-4161-88c0-cea8fda7ec6c",
      "metadata": {
        "id": "d3106345-67ab-4161-88c0-cea8fda7ec6c",
        "outputId": "c8bd9597-7992-4857-fbea-b3bfea816084"
      },
      "outputs": [
        {
          "name": "stdout",
          "output_type": "stream",
          "text": [
            "DataFrame for Filtering:\n"
          ]
        },
        {
          "data": {
            "text/html": [
              "<div>\n",
              "<style scoped>\n",
              "    .dataframe tbody tr th:only-of-type {\n",
              "        vertical-align: middle;\n",
              "    }\n",
              "\n",
              "    .dataframe tbody tr th {\n",
              "        vertical-align: top;\n",
              "    }\n",
              "\n",
              "    .dataframe thead th {\n",
              "        text-align: right;\n",
              "    }\n",
              "</style>\n",
              "<table border=\"1\" class=\"dataframe\">\n",
              "  <thead>\n",
              "    <tr style=\"text-align: right;\">\n",
              "      <th></th>\n",
              "      <th>Event_ID</th>\n",
              "      <th>Timestamp_String</th>\n",
              "      <th>Value</th>\n",
              "    </tr>\n",
              "  </thead>\n",
              "  <tbody>\n",
              "    <tr>\n",
              "      <th>0</th>\n",
              "      <td>101</td>\n",
              "      <td>2023-01-05 09:00:00</td>\n",
              "      <td>15</td>\n",
              "    </tr>\n",
              "    <tr>\n",
              "      <th>1</th>\n",
              "      <td>102</td>\n",
              "      <td>2023-01-06 10:30:00</td>\n",
              "      <td>22</td>\n",
              "    </tr>\n",
              "    <tr>\n",
              "      <th>2</th>\n",
              "      <td>103</td>\n",
              "      <td>2023-01-07 11:00:00</td>\n",
              "      <td>18</td>\n",
              "    </tr>\n",
              "    <tr>\n",
              "      <th>3</th>\n",
              "      <td>104</td>\n",
              "      <td>2023-01-08 14:15:00</td>\n",
              "      <td>25</td>\n",
              "    </tr>\n",
              "  </tbody>\n",
              "</table>\n",
              "</div>"
            ],
            "text/plain": [
              "   Event_ID    Timestamp_String  Value\n",
              "0       101 2023-01-05 09:00:00     15\n",
              "1       102 2023-01-06 10:30:00     22\n",
              "2       103 2023-01-07 11:00:00     18\n",
              "3       104 2023-01-08 14:15:00     25"
            ]
          },
          "execution_count": 26,
          "metadata": {},
          "output_type": "execute_result"
        }
      ],
      "source": [
        "# Example 2: Filtering a DataFrame by Time Ranges\n",
        "\n",
        "# Using the DataFrame from Example 1, with 'Timestamp_String' converted\n",
        "print(\"DataFrame for Filtering:\")\n",
        "events_df"
      ]
    },
    {
      "cell_type": "code",
      "execution_count": null,
      "id": "34be4a01-1162-463a-abdb-f9391444401b",
      "metadata": {
        "id": "34be4a01-1162-463a-abdb-f9391444401b",
        "outputId": "c186dbb7-f411-476c-ea35-247678212f9a"
      },
      "outputs": [
        {
          "name": "stdout",
          "output_type": "stream",
          "text": [
            "\n",
            "Events on or after 2023-01-06:\n"
          ]
        },
        {
          "data": {
            "text/html": [
              "<div>\n",
              "<style scoped>\n",
              "    .dataframe tbody tr th:only-of-type {\n",
              "        vertical-align: middle;\n",
              "    }\n",
              "\n",
              "    .dataframe tbody tr th {\n",
              "        vertical-align: top;\n",
              "    }\n",
              "\n",
              "    .dataframe thead th {\n",
              "        text-align: right;\n",
              "    }\n",
              "</style>\n",
              "<table border=\"1\" class=\"dataframe\">\n",
              "  <thead>\n",
              "    <tr style=\"text-align: right;\">\n",
              "      <th></th>\n",
              "      <th>Event_ID</th>\n",
              "      <th>Timestamp_String</th>\n",
              "      <th>Value</th>\n",
              "    </tr>\n",
              "  </thead>\n",
              "  <tbody>\n",
              "    <tr>\n",
              "      <th>1</th>\n",
              "      <td>102</td>\n",
              "      <td>2023-01-06 10:30:00</td>\n",
              "      <td>22</td>\n",
              "    </tr>\n",
              "    <tr>\n",
              "      <th>2</th>\n",
              "      <td>103</td>\n",
              "      <td>2023-01-07 11:00:00</td>\n",
              "      <td>18</td>\n",
              "    </tr>\n",
              "    <tr>\n",
              "      <th>3</th>\n",
              "      <td>104</td>\n",
              "      <td>2023-01-08 14:15:00</td>\n",
              "      <td>25</td>\n",
              "    </tr>\n",
              "  </tbody>\n",
              "</table>\n",
              "</div>"
            ],
            "text/plain": [
              "   Event_ID    Timestamp_String  Value\n",
              "1       102 2023-01-06 10:30:00     22\n",
              "2       103 2023-01-07 11:00:00     18\n",
              "3       104 2023-01-08 14:15:00     25"
            ]
          },
          "execution_count": 27,
          "metadata": {},
          "output_type": "execute_result"
        }
      ],
      "source": [
        "# Filter for events on or after a specific date\n",
        "filter_start_date = '2023-01-06'\n",
        "events_after_date = events_df[events_df['Timestamp_String'] >= filter_start_date]\n",
        "print(f\"\\nEvents on or after {filter_start_date}:\")\n",
        "events_after_date"
      ]
    },
    {
      "cell_type": "code",
      "execution_count": null,
      "id": "b2d21336-981d-4f54-9c25-9a25e3b407d7",
      "metadata": {
        "id": "b2d21336-981d-4f54-9c25-9a25e3b407d7",
        "outputId": "05e0ad69-7929-48ba-ee1e-98330cd3eee1"
      },
      "outputs": [
        {
          "name": "stdout",
          "output_type": "stream",
          "text": [
            "\n",
            "Events between 2023-01-06 and 2023-01-07 23:59:59 (inclusive):\n"
          ]
        },
        {
          "data": {
            "text/html": [
              "<div>\n",
              "<style scoped>\n",
              "    .dataframe tbody tr th:only-of-type {\n",
              "        vertical-align: middle;\n",
              "    }\n",
              "\n",
              "    .dataframe tbody tr th {\n",
              "        vertical-align: top;\n",
              "    }\n",
              "\n",
              "    .dataframe thead th {\n",
              "        text-align: right;\n",
              "    }\n",
              "</style>\n",
              "<table border=\"1\" class=\"dataframe\">\n",
              "  <thead>\n",
              "    <tr style=\"text-align: right;\">\n",
              "      <th></th>\n",
              "      <th>Event_ID</th>\n",
              "      <th>Timestamp_String</th>\n",
              "      <th>Value</th>\n",
              "    </tr>\n",
              "  </thead>\n",
              "  <tbody>\n",
              "    <tr>\n",
              "      <th>1</th>\n",
              "      <td>102</td>\n",
              "      <td>2023-01-06 10:30:00</td>\n",
              "      <td>22</td>\n",
              "    </tr>\n",
              "    <tr>\n",
              "      <th>2</th>\n",
              "      <td>103</td>\n",
              "      <td>2023-01-07 11:00:00</td>\n",
              "      <td>18</td>\n",
              "    </tr>\n",
              "  </tbody>\n",
              "</table>\n",
              "</div>"
            ],
            "text/plain": [
              "   Event_ID    Timestamp_String  Value\n",
              "1       102 2023-01-06 10:30:00     22\n",
              "2       103 2023-01-07 11:00:00     18"
            ]
          },
          "execution_count": 28,
          "metadata": {},
          "output_type": "execute_result"
        }
      ],
      "source": [
        "# Filter for events between two dates\n",
        "start_range = '2023-01-06'\n",
        "end_range = '2023-01-07 23:59:59' # Include the whole day of the 7th\n",
        "events_in_range = events_df[(events_df['Timestamp_String'] >= start_range) & (events_df['Timestamp_String'] <= end_range)]\n",
        "print(f\"\\nEvents between {start_range} and {end_range} (inclusive):\")\n",
        "events_in_range"
      ]
    },
    {
      "cell_type": "markdown",
      "id": "20cb575c-28a9-4e04-a29a-366d2f409ec8",
      "metadata": {
        "id": "20cb575c-28a9-4e04-a29a-366d2f409ec8"
      },
      "source": [
        "### Using Time as the DataFrame Index\n",
        "\n",
        "For data that is inherently sequential in time (like time series data), it is often very convenient to set the column containing the time information as the DataFrame's index. This allows for powerful and concise time-based slicing, lookups, and operations."
      ]
    },
    {
      "cell_type": "code",
      "execution_count": null,
      "id": "99127fa3-e52a-4034-ad5e-7592d51518e1",
      "metadata": {
        "id": "99127fa3-e52a-4034-ad5e-7592d51518e1",
        "outputId": "bc8e25b0-630f-4840-8954-821fd28e0ef9"
      },
      "outputs": [
        {
          "name": "stdout",
          "output_type": "stream",
          "text": [
            "DataFrame Before Setting Index:\n"
          ]
        },
        {
          "data": {
            "text/html": [
              "<div>\n",
              "<style scoped>\n",
              "    .dataframe tbody tr th:only-of-type {\n",
              "        vertical-align: middle;\n",
              "    }\n",
              "\n",
              "    .dataframe tbody tr th {\n",
              "        vertical-align: top;\n",
              "    }\n",
              "\n",
              "    .dataframe thead th {\n",
              "        text-align: right;\n",
              "    }\n",
              "</style>\n",
              "<table border=\"1\" class=\"dataframe\">\n",
              "  <thead>\n",
              "    <tr style=\"text-align: right;\">\n",
              "      <th></th>\n",
              "      <th>Event_ID</th>\n",
              "      <th>Timestamp_String</th>\n",
              "      <th>Value</th>\n",
              "    </tr>\n",
              "  </thead>\n",
              "  <tbody>\n",
              "    <tr>\n",
              "      <th>0</th>\n",
              "      <td>101</td>\n",
              "      <td>2023-01-05 09:00:00</td>\n",
              "      <td>15</td>\n",
              "    </tr>\n",
              "    <tr>\n",
              "      <th>1</th>\n",
              "      <td>102</td>\n",
              "      <td>2023-01-06 10:30:00</td>\n",
              "      <td>22</td>\n",
              "    </tr>\n",
              "    <tr>\n",
              "      <th>2</th>\n",
              "      <td>103</td>\n",
              "      <td>2023-01-07 11:00:00</td>\n",
              "      <td>18</td>\n",
              "    </tr>\n",
              "    <tr>\n",
              "      <th>3</th>\n",
              "      <td>104</td>\n",
              "      <td>2023-01-08 14:15:00</td>\n",
              "      <td>25</td>\n",
              "    </tr>\n",
              "  </tbody>\n",
              "</table>\n",
              "</div>"
            ],
            "text/plain": [
              "   Event_ID    Timestamp_String  Value\n",
              "0       101 2023-01-05 09:00:00     15\n",
              "1       102 2023-01-06 10:30:00     22\n",
              "2       103 2023-01-07 11:00:00     18\n",
              "3       104 2023-01-08 14:15:00     25"
            ]
          },
          "execution_count": 29,
          "metadata": {},
          "output_type": "execute_result"
        }
      ],
      "source": [
        "# Example 3: Setting Time as DataFrame Index\n",
        "\n",
        "# Using the DataFrame from Example 1, with 'Timestamp_String' as datetime\n",
        "print(\"DataFrame Before Setting Index:\")\n",
        "events_df[['Event_ID', 'Timestamp_String', 'Value']]"
      ]
    },
    {
      "cell_type": "code",
      "execution_count": null,
      "id": "81904b59-ec8f-4613-a581-0c84274cd6c5",
      "metadata": {
        "id": "81904b59-ec8f-4613-a581-0c84274cd6c5",
        "outputId": "dd6f4163-f784-455d-aedd-91744fd456ce"
      },
      "outputs": [
        {
          "name": "stdout",
          "output_type": "stream",
          "text": [
            "\n",
            "DataFrame with Timestamp_String as Index:\n"
          ]
        },
        {
          "data": {
            "text/html": [
              "<div>\n",
              "<style scoped>\n",
              "    .dataframe tbody tr th:only-of-type {\n",
              "        vertical-align: middle;\n",
              "    }\n",
              "\n",
              "    .dataframe tbody tr th {\n",
              "        vertical-align: top;\n",
              "    }\n",
              "\n",
              "    .dataframe thead th {\n",
              "        text-align: right;\n",
              "    }\n",
              "</style>\n",
              "<table border=\"1\" class=\"dataframe\">\n",
              "  <thead>\n",
              "    <tr style=\"text-align: right;\">\n",
              "      <th></th>\n",
              "      <th>Event_ID</th>\n",
              "      <th>Value</th>\n",
              "    </tr>\n",
              "    <tr>\n",
              "      <th>Timestamp_String</th>\n",
              "      <th></th>\n",
              "      <th></th>\n",
              "    </tr>\n",
              "  </thead>\n",
              "  <tbody>\n",
              "    <tr>\n",
              "      <th>2023-01-05 09:00:00</th>\n",
              "      <td>101</td>\n",
              "      <td>15</td>\n",
              "    </tr>\n",
              "    <tr>\n",
              "      <th>2023-01-06 10:30:00</th>\n",
              "      <td>102</td>\n",
              "      <td>22</td>\n",
              "    </tr>\n",
              "    <tr>\n",
              "      <th>2023-01-07 11:00:00</th>\n",
              "      <td>103</td>\n",
              "      <td>18</td>\n",
              "    </tr>\n",
              "    <tr>\n",
              "      <th>2023-01-08 14:15:00</th>\n",
              "      <td>104</td>\n",
              "      <td>25</td>\n",
              "    </tr>\n",
              "  </tbody>\n",
              "</table>\n",
              "</div>"
            ],
            "text/plain": [
              "                     Event_ID  Value\n",
              "Timestamp_String                    \n",
              "2023-01-05 09:00:00       101     15\n",
              "2023-01-06 10:30:00       102     22\n",
              "2023-01-07 11:00:00       103     18\n",
              "2023-01-08 14:15:00       104     25"
            ]
          },
          "execution_count": 31,
          "metadata": {},
          "output_type": "execute_result"
        }
      ],
      "source": [
        "# Set the 'Timestamp_String' column as the index\n",
        "# drop=True removes the column from the DataFrame after setting it as index\n",
        "events_df_indexed = events_df.set_index('Timestamp_String', drop=True)\n",
        "\n",
        "print(\"\\nDataFrame with Timestamp_String as Index:\")\n",
        "events_df_indexed"
      ]
    },
    {
      "cell_type": "code",
      "execution_count": null,
      "id": "e9b4cc3b-ae97-4ea4-bb98-e39375b77d11",
      "metadata": {
        "id": "e9b4cc3b-ae97-4ea4-bb98-e39375b77d11",
        "outputId": "14cffb9b-c8ac-46ef-b851-9ceef4a41a89"
      },
      "outputs": [
        {
          "name": "stdout",
          "output_type": "stream",
          "text": [
            "\n",
            "Slice using index ['2023-01-06':'2023-01-07']:\n"
          ]
        },
        {
          "data": {
            "text/html": [
              "<div>\n",
              "<style scoped>\n",
              "    .dataframe tbody tr th:only-of-type {\n",
              "        vertical-align: middle;\n",
              "    }\n",
              "\n",
              "    .dataframe tbody tr th {\n",
              "        vertical-align: top;\n",
              "    }\n",
              "\n",
              "    .dataframe thead th {\n",
              "        text-align: right;\n",
              "    }\n",
              "</style>\n",
              "<table border=\"1\" class=\"dataframe\">\n",
              "  <thead>\n",
              "    <tr style=\"text-align: right;\">\n",
              "      <th></th>\n",
              "      <th>Event_ID</th>\n",
              "      <th>Value</th>\n",
              "    </tr>\n",
              "    <tr>\n",
              "      <th>Timestamp_String</th>\n",
              "      <th></th>\n",
              "      <th></th>\n",
              "    </tr>\n",
              "  </thead>\n",
              "  <tbody>\n",
              "    <tr>\n",
              "      <th>2023-01-06 10:30:00</th>\n",
              "      <td>102</td>\n",
              "      <td>22</td>\n",
              "    </tr>\n",
              "    <tr>\n",
              "      <th>2023-01-07 11:00:00</th>\n",
              "      <td>103</td>\n",
              "      <td>18</td>\n",
              "    </tr>\n",
              "  </tbody>\n",
              "</table>\n",
              "</div>"
            ],
            "text/plain": [
              "                     Event_ID  Value\n",
              "Timestamp_String                    \n",
              "2023-01-06 10:30:00       102     22\n",
              "2023-01-07 11:00:00       103     18"
            ]
          },
          "execution_count": 32,
          "metadata": {},
          "output_type": "execute_result"
        }
      ],
      "source": [
        "# You can now slice the DataFrame using time strings directly on the index\n",
        "# Slicing on a datetime index is often inclusive of the end bound\n",
        "slice_by_date_string = events_df_indexed['2023-01-06':'2023-01-07'] # Slice from 2023-01-06 up to and including 2023-01-07\n",
        "print(f\"\\nSlice using index ['2023-01-06':'2023-01-07']:\")\n",
        "slice_by_date_string"
      ]
    },
    {
      "cell_type": "code",
      "execution_count": null,
      "id": "6e8b4408-59be-4937-a780-d8b878f41b8d",
      "metadata": {
        "id": "6e8b4408-59be-4937-a780-d8b878f41b8d",
        "outputId": "83f4d799-83e0-43bf-f4c8-857870444704"
      },
      "outputs": [
        {
          "name": "stdout",
          "output_type": "stream",
          "text": [
            "\n",
            "Select data for '2023-01-08' using index.loc:\n"
          ]
        },
        {
          "data": {
            "text/html": [
              "<div>\n",
              "<style scoped>\n",
              "    .dataframe tbody tr th:only-of-type {\n",
              "        vertical-align: middle;\n",
              "    }\n",
              "\n",
              "    .dataframe tbody tr th {\n",
              "        vertical-align: top;\n",
              "    }\n",
              "\n",
              "    .dataframe thead th {\n",
              "        text-align: right;\n",
              "    }\n",
              "</style>\n",
              "<table border=\"1\" class=\"dataframe\">\n",
              "  <thead>\n",
              "    <tr style=\"text-align: right;\">\n",
              "      <th></th>\n",
              "      <th>Event_ID</th>\n",
              "      <th>Value</th>\n",
              "    </tr>\n",
              "    <tr>\n",
              "      <th>Timestamp_String</th>\n",
              "      <th></th>\n",
              "      <th></th>\n",
              "    </tr>\n",
              "  </thead>\n",
              "  <tbody>\n",
              "    <tr>\n",
              "      <th>2023-01-08 14:15:00</th>\n",
              "      <td>104</td>\n",
              "      <td>25</td>\n",
              "    </tr>\n",
              "  </tbody>\n",
              "</table>\n",
              "</div>"
            ],
            "text/plain": [
              "                     Event_ID  Value\n",
              "Timestamp_String                    \n",
              "2023-01-08 14:15:00       104     25"
            ]
          },
          "execution_count": 17,
          "metadata": {},
          "output_type": "execute_result"
        }
      ],
      "source": [
        "# Selecting data for a specific day\n",
        "select_day_data = events_df_indexed.loc['2023-01-08']\n",
        "print(f\"\\nSelect data for '2023-01-08' using index.loc:\")\n",
        "select_day_data # Note: .loc is generally preferred for label-based indexing"
      ]
    },
    {
      "cell_type": "code",
      "execution_count": null,
      "id": "329b9ab9-2909-4eb0-ba0b-c3d8259c4135",
      "metadata": {
        "id": "329b9ab9-2909-4eb0-ba0b-c3d8259c4135"
      },
      "outputs": [],
      "source": []
    }
  ],
  "metadata": {
    "kernelspec": {
      "display_name": "Python 3 (ipykernel)",
      "language": "python",
      "name": "python3"
    },
    "language_info": {
      "codemirror_mode": {
        "name": "ipython",
        "version": 3
      },
      "file_extension": ".py",
      "mimetype": "text/x-python",
      "name": "python",
      "nbconvert_exporter": "python",
      "pygments_lexer": "ipython3",
      "version": "3.10.11"
    },
    "colab": {
      "provenance": []
    }
  },
  "nbformat": 4,
  "nbformat_minor": 5
}